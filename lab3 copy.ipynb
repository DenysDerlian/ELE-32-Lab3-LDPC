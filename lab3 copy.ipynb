{
 "cells": [
  {
   "cell_type": "code",
   "execution_count": 924,
   "metadata": {},
   "outputs": [],
   "source": [
    "import numpy as np\n",
    "import matplotlib\n",
    "import matplotlib.pyplot as plt\n",
    "from numba import njit\n",
    "import networkx as nx"
   ]
  },
  {
   "cell_type": "code",
   "execution_count": 925,
   "metadata": {},
   "outputs": [],
   "source": [
    "def calcular_variancia_ruido(Eb_N0_dB):\n",
    "    Eb_N0 = 10**(Eb_N0_dB / 10)\n",
    "    N0 = 1 / Eb_N0\n",
    "    sigma2 = N0 / 2\n",
    "    return sigma2"
   ]
  },
  {
   "cell_type": "code",
   "execution_count": 926,
   "metadata": {},
   "outputs": [
    {
     "name": "stdout",
     "output_type": "stream",
     "text": [
      "Variância do ruído: 5e-21\n"
     ]
    }
   ],
   "source": [
    "variancia_ruido = calcular_variancia_ruido(200)\n",
    "print(f\"Variância do ruído: {variancia_ruido}\")"
   ]
  },
  {
   "cell_type": "code",
   "execution_count": 927,
   "metadata": {},
   "outputs": [],
   "source": [
    "def gerar_simbolos_bpsk(num_bits):\n",
    "    return np.random.choice([-1, 1], num_bits)"
   ]
  },
  {
   "cell_type": "code",
   "execution_count": 928,
   "metadata": {},
   "outputs": [
    {
     "name": "stdout",
     "output_type": "stream",
     "text": [
      "Símbolos BPSK gerados: [ 1  1 -1 -1 -1 -1  1  1 -1  1]\n"
     ]
    }
   ],
   "source": [
    "simbolos_bpsk = gerar_simbolos_bpsk(10)\n",
    "print(f\"Símbolos BPSK gerados: {simbolos_bpsk}\")"
   ]
  },
  {
   "cell_type": "code",
   "execution_count": 929,
   "metadata": {},
   "outputs": [],
   "source": [
    "def calcular_valor_recebido(simbolos, Eb_N0_dB):\n",
    "    sigma2 = calcular_variancia_ruido(Eb_N0_dB)\n",
    "    sigma = np.sqrt(sigma2)\n",
    "    ruido = sigma * np.random.randn(len(simbolos))\n",
    "    r = simbolos + ruido\n",
    "    return r"
   ]
  },
  {
   "cell_type": "code",
   "execution_count": 930,
   "metadata": {},
   "outputs": [
    {
     "name": "stdout",
     "output_type": "stream",
     "text": [
      "Valores recebidos: [ 1.06604296  1.66481711 -0.74547139 -0.99169307 -0.56204487 -0.13750259\n",
      "  0.51059018  0.87179826 -0.49220571  0.68482954]\n"
     ]
    }
   ],
   "source": [
    "valores_recebidos = calcular_valor_recebido(simbolos_bpsk, 3)\n",
    "print(f\"Valores recebidos: {valores_recebidos}\")"
   ]
  },
  {
   "cell_type": "code",
   "execution_count": 931,
   "metadata": {},
   "outputs": [],
   "source": [
    "def calcular_valores_llr(r, sigma2):\n",
    "    llr = 2 * r / sigma2\n",
    "    return llr"
   ]
  },
  {
   "cell_type": "code",
   "execution_count": 932,
   "metadata": {},
   "outputs": [
    {
     "name": "stdout",
     "output_type": "stream",
     "text": [
      "Valores LLR: [ 4.26417184e+20  6.65926845e+20 -2.98188555e+20 -3.96677229e+20\n",
      " -2.24817948e+20 -5.50010372e+19  2.04236073e+20  3.48719304e+20\n",
      " -1.96882284e+20  2.73931815e+20]\n"
     ]
    }
   ],
   "source": [
    "Lc = calcular_valores_llr(valores_recebidos, variancia_ruido)\n",
    "print(f\"Valores LLR: {Lc}\")"
   ]
  },
  {
   "cell_type": "code",
   "execution_count": 933,
   "metadata": {},
   "outputs": [],
   "source": [
    "@njit\n",
    "def set_params(N: int, dv: int, dc: int) -> tuple[int, int]:\n",
    "    if (N  % dc != 0):\n",
    "        raise ValueError(\"N must be divisible by dc\")\n",
    "    else:\n",
    "        K = int(N / dc)\n",
    "        M = int(K * dv)\n",
    "        return (K, M)"
   ]
  },
  {
   "cell_type": "code",
   "execution_count": 934,
   "metadata": {},
   "outputs": [
    {
     "name": "stdout",
     "output_type": "stream",
     "text": [
      "K: 2; M: 6\n"
     ]
    }
   ],
   "source": [
    "N = 10\n",
    "dv = 3\n",
    "dc = 5\n",
    "K, M = set_params(N, dv, dc)\n",
    "print(f\"K: {K}; M: {M}\")"
   ]
  },
  {
   "cell_type": "code",
   "execution_count": 935,
   "metadata": {},
   "outputs": [],
   "source": [
    "@njit\n",
    "def generate_LDPC_matrix(N, dv, dc, K, M):\n",
    "    H1 = np.zeros((K, N), dtype=np.int32)\n",
    "    for i in range(len(H1)):\n",
    "        H1[i][i * dc:(i + 1) * dc] = 1\n",
    "\n",
    "    H = H1\n",
    "\n",
    "    for _ in range(dv - 1):\n",
    "        perm = np.random.permutation(N)\n",
    "        H2 = H1[:, perm]\n",
    "        H = np.concatenate((H, H2), axis=0)\n",
    "\n",
    "    return H"
   ]
  },
  {
   "cell_type": "code",
   "execution_count": 936,
   "metadata": {},
   "outputs": [
    {
     "name": "stdout",
     "output_type": "stream",
     "text": [
      "Matriz LDPC gerada: \n",
      "[[1 1 1 1 1 0 0 0 0 0]\n",
      " [0 0 0 0 0 1 1 1 1 1]\n",
      " [0 1 1 0 1 1 0 0 0 1]\n",
      " [1 0 0 1 0 0 1 1 1 0]\n",
      " [1 0 1 0 1 0 0 0 1 1]\n",
      " [0 1 0 1 0 1 1 1 0 0]]\n"
     ]
    }
   ],
   "source": [
    "H = generate_LDPC_matrix(N, dv, dc, K, M)\n",
    "print(f\"Matriz LDPC gerada: \\n{H}\")"
   ]
  },
  {
   "cell_type": "code",
   "execution_count": 937,
   "metadata": {},
   "outputs": [],
   "source": [
    "def inicializar_mensagens(H):\n",
    "    num_cnodes, num_vnodes = H.shape\n",
    "    Le = np.zeros((num_cnodes, num_vnodes))  # Mensagens dos c-nodes para os v-nodes\n",
    "    Lr = np.zeros((num_cnodes, num_vnodes))  # Mensagens dos v-nodes para os c-nodes\n",
    "    return Le, Lr"
   ]
  },
  {
   "cell_type": "code",
   "execution_count": 938,
   "metadata": {},
   "outputs": [
    {
     "name": "stdout",
     "output_type": "stream",
     "text": [
      "Mensagens Le iniciais: [[0. 0. 0. 0. 0. 0. 0. 0. 0. 0.]\n",
      " [0. 0. 0. 0. 0. 0. 0. 0. 0. 0.]\n",
      " [0. 0. 0. 0. 0. 0. 0. 0. 0. 0.]\n",
      " [0. 0. 0. 0. 0. 0. 0. 0. 0. 0.]\n",
      " [0. 0. 0. 0. 0. 0. 0. 0. 0. 0.]\n",
      " [0. 0. 0. 0. 0. 0. 0. 0. 0. 0.]]\n",
      "Mensagens Lr iniciais: [[0. 0. 0. 0. 0. 0. 0. 0. 0. 0.]\n",
      " [0. 0. 0. 0. 0. 0. 0. 0. 0. 0.]\n",
      " [0. 0. 0. 0. 0. 0. 0. 0. 0. 0.]\n",
      " [0. 0. 0. 0. 0. 0. 0. 0. 0. 0.]\n",
      " [0. 0. 0. 0. 0. 0. 0. 0. 0. 0.]\n",
      " [0. 0. 0. 0. 0. 0. 0. 0. 0. 0.]]\n"
     ]
    }
   ],
   "source": [
    "Le, Lr = inicializar_mensagens(H)\n",
    "print(f\"Mensagens Le iniciais: {Le}\")\n",
    "print(f\"Mensagens Lr iniciais: {Lr}\")"
   ]
  },
  {
   "cell_type": "code",
   "execution_count": 939,
   "metadata": {},
   "outputs": [],
   "source": [
    "def atualizar_mensagens_vnodes(Lr, Lc, Le, H):\n",
    "    num_cnodes, num_vnodes = H.shape\n",
    "    for i in range(num_vnodes):\n",
    "        for j in range(num_cnodes):\n",
    "            if H[j, i] == 1:\n",
    "                Lr[j, i] = Lc[i] + np.sum(Le[:, i]) - Le[j, i]\n",
    "    return Lr"
   ]
  },
  {
   "cell_type": "code",
   "execution_count": 940,
   "metadata": {},
   "outputs": [
    {
     "name": "stdout",
     "output_type": "stream",
     "text": [
      "Mensagens Lr atualizadas: [[ 4.26417184e+20  6.65926845e+20 -2.98188555e+20 -3.96677229e+20\n",
      "  -2.24817948e+20  0.00000000e+00  0.00000000e+00  0.00000000e+00\n",
      "   0.00000000e+00  0.00000000e+00]\n",
      " [ 0.00000000e+00  0.00000000e+00  0.00000000e+00  0.00000000e+00\n",
      "   0.00000000e+00 -5.50010372e+19  2.04236073e+20  3.48719304e+20\n",
      "  -1.96882284e+20  2.73931815e+20]\n",
      " [ 0.00000000e+00  6.65926845e+20 -2.98188555e+20  0.00000000e+00\n",
      "  -2.24817948e+20 -5.50010372e+19  0.00000000e+00  0.00000000e+00\n",
      "   0.00000000e+00  2.73931815e+20]\n",
      " [ 4.26417184e+20  0.00000000e+00  0.00000000e+00 -3.96677229e+20\n",
      "   0.00000000e+00  0.00000000e+00  2.04236073e+20  3.48719304e+20\n",
      "  -1.96882284e+20  0.00000000e+00]\n",
      " [ 4.26417184e+20  0.00000000e+00 -2.98188555e+20  0.00000000e+00\n",
      "  -2.24817948e+20  0.00000000e+00  0.00000000e+00  0.00000000e+00\n",
      "  -1.96882284e+20  2.73931815e+20]\n",
      " [ 0.00000000e+00  6.65926845e+20  0.00000000e+00 -3.96677229e+20\n",
      "   0.00000000e+00 -5.50010372e+19  2.04236073e+20  3.48719304e+20\n",
      "   0.00000000e+00  0.00000000e+00]]\n"
     ]
    }
   ],
   "source": [
    "Lr = atualizar_mensagens_vnodes(Lr, Lc, Le, H)\n",
    "print(f\"Mensagens Lr atualizadas: {Lr}\")"
   ]
  },
  {
   "cell_type": "code",
   "execution_count": 941,
   "metadata": {},
   "outputs": [],
   "source": [
    "def atualizar_mensagens_cnodes(Le, Lr, H):\n",
    "    num_cnodes, num_vnodes = H.shape\n",
    "    for j in range(num_cnodes):\n",
    "        for i in range(num_vnodes):\n",
    "            if H[j, i] == 1:\n",
    "                # Calcula o produto dos sinais\n",
    "                product_sign = 1\n",
    "                min_value = float('inf')\n",
    "                for k in range(num_vnodes):\n",
    "                    if k != i and H[j, k] == 1:\n",
    "                        product_sign *= np.sign(Lr[j, k])\n",
    "                        min_value = min(min_value, abs(Lr[j, k]))\n",
    "                # Calcula a mensagem de saída usando a equação 11\n",
    "                Le[j, i] = product_sign * min_value\n",
    "    return Le"
   ]
  },
  {
   "cell_type": "code",
   "execution_count": 942,
   "metadata": {},
   "outputs": [
    {
     "name": "stdout",
     "output_type": "stream",
     "text": [
      "Mensagens Le atualizadas: [[-2.24817948e+20 -2.24817948e+20  2.24817948e+20  2.24817948e+20\n",
      "   2.98188555e+20  0.00000000e+00  0.00000000e+00  0.00000000e+00\n",
      "   0.00000000e+00  0.00000000e+00]\n",
      " [ 0.00000000e+00  0.00000000e+00  0.00000000e+00  0.00000000e+00\n",
      "   0.00000000e+00 -1.96882284e+20  5.50010372e+19  5.50010372e+19\n",
      "  -5.50010372e+19  5.50010372e+19]\n",
      " [ 0.00000000e+00 -5.50010372e+19  5.50010372e+19  0.00000000e+00\n",
      "   5.50010372e+19  2.24817948e+20  0.00000000e+00  0.00000000e+00\n",
      "   0.00000000e+00 -5.50010372e+19]\n",
      " [ 1.96882284e+20  0.00000000e+00  0.00000000e+00 -1.96882284e+20\n",
      "   0.00000000e+00  0.00000000e+00  1.96882284e+20  1.96882284e+20\n",
      "  -2.04236073e+20  0.00000000e+00]\n",
      " [-1.96882284e+20  0.00000000e+00  1.96882284e+20  0.00000000e+00\n",
      "   1.96882284e+20  0.00000000e+00  0.00000000e+00  0.00000000e+00\n",
      "   2.24817948e+20 -1.96882284e+20]\n",
      " [ 0.00000000e+00  5.50010372e+19  0.00000000e+00 -5.50010372e+19\n",
      "   0.00000000e+00 -2.04236073e+20  5.50010372e+19  5.50010372e+19\n",
      "   0.00000000e+00  0.00000000e+00]]\n"
     ]
    }
   ],
   "source": [
    "Le = atualizar_mensagens_cnodes(Le, Lr, H)\n",
    "print(f\"Mensagens Le atualizadas: {Le}\")"
   ]
  },
  {
   "cell_type": "code",
   "execution_count": 943,
   "metadata": {},
   "outputs": [],
   "source": [
    "def iteracao(Lc, Le, Lr, H):\n",
    "    num_cnodes = H.shape[0]\n",
    "    # Atualizar mensagens dos v-nodes\n",
    "    Lr = atualizar_mensagens_vnodes(Lr, Lc, Le, H)\n",
    "    \n",
    "    # Atualizar mensagens dos c-nodes\n",
    "    Le = atualizar_mensagens_cnodes(Le, Lr, H)\n",
    "    \n",
    "    criteria_met = np.zeros(num_cnodes, dtype=int)\n",
    "    \n",
    "    for i in range(num_cnodes):\n",
    "        # Índices dos v-nodes conectados ao c-node i\n",
    "        connected_v_nodes = np.where(H[i, :] == 1)[0]\n",
    "        \n",
    "        # Mensagens de entrada para o c-node i\n",
    "        incoming_messages = Le[i, connected_v_nodes]\n",
    "        \n",
    "        product_of_signs = np.prod(np.sign(incoming_messages))\n",
    "        \n",
    "        # Critério atendido se o produto dos sinais for positivo\n",
    "        criteria_met[i] = int(product_of_signs > 0)\n",
    "            \n",
    "    return criteria_met"
   ]
  },
  {
   "cell_type": "code",
   "execution_count": 944,
   "metadata": {},
   "outputs": [],
   "source": [
    "n = 0"
   ]
  },
  {
   "cell_type": "code",
   "execution_count": 945,
   "metadata": {},
   "outputs": [
    {
     "name": "stdout",
     "output_type": "stream",
     "text": [
      "Iteração n: 1\n",
      "Mensagens Decision atualizada: [1 1 1 1 1 1]\n",
      "Símbolos BPSK gerados:         [ 1  1 -1 -1 -1 -1  1  1 -1  1]\n",
      "Mensagens Le atualizada: [[ 2.70653727e+19  2.70653727e+19 -2.70653727e+19 -2.70653727e+19\n",
      "   4.63052344e+19  0.00000000e+00  0.00000000e+00  0.00000000e+00\n",
      "   0.00000000e+00  0.00000000e+00]\n",
      " [ 0.00000000e+00  0.00000000e+00  0.00000000e+00  0.00000000e+00\n",
      "   0.00000000e+00 -2.20484944e+19  2.20484944e+19  2.20484944e+19\n",
      "  -2.20484944e+19  3.44191623e+19]\n",
      " [ 0.00000000e+00 -1.23511677e+20 -1.32050569e+20  0.00000000e+00\n",
      "  -1.23511677e+20  1.23511677e+20  0.00000000e+00  0.00000000e+00\n",
      "   0.00000000e+00 -1.23511677e+20]\n",
      " [ 2.70653727e+19  0.00000000e+00  0.00000000e+00 -4.71695158e+18\n",
      "   0.00000000e+00  0.00000000e+00  4.71695158e+18  4.71695158e+18\n",
      "  -4.71695158e+18  0.00000000e+00]\n",
      " [ 1.83695699e+19  0.00000000e+00 -1.28371644e+20  0.00000000e+00\n",
      "   1.83695699e+19  0.00000000e+00  0.00000000e+00  0.00000000e+00\n",
      "  -1.83695699e+19  1.83695699e+19]\n",
      " [ 0.00000000e+00  2.70653727e+19  0.00000000e+00 -2.70653727e+19\n",
      "   0.00000000e+00 -3.68741564e+20  2.70653727e+19  2.70653727e+19\n",
      "   0.00000000e+00  0.00000000e+00]]\n",
      "Mensagens Lr atualizada: [[ 4.26417184e+20  6.65926845e+20 -4.63052344e+19 -6.48560550e+20\n",
      "   2.70653727e+19  0.00000000e+00  0.00000000e+00  0.00000000e+00\n",
      "   0.00000000e+00  0.00000000e+00]\n",
      " [ 0.00000000e+00  0.00000000e+00  0.00000000e+00  0.00000000e+00\n",
      "   0.00000000e+00 -3.44191623e+19  4.56119395e+20  6.00602625e+20\n",
      "  -1.76300409e+20  2.20484944e+19]\n",
      " [ 0.00000000e+00  4.96109933e+20  1.23511677e+20  0.00000000e+00\n",
      "   2.70252891e+20 -4.56119395e+20  0.00000000e+00  0.00000000e+00\n",
      "   0.00000000e+00  1.32050569e+20]\n",
      " [ 4.71695158e+18  0.00000000e+00  0.00000000e+00 -2.26860318e+20\n",
      "   0.00000000e+00  0.00000000e+00  3.14238148e+20  4.58721379e+20\n",
      "  -2.70653727e+19  0.00000000e+00]\n",
      " [ 3.98481519e+20  0.00000000e+00 -1.83695699e+19  0.00000000e+00\n",
      "   1.28371644e+20  0.00000000e+00  0.00000000e+00  0.00000000e+00\n",
      "  -4.56119395e+20  2.73931815e+20]\n",
      " [ 0.00000000e+00  3.86107859e+20  0.00000000e+00 -3.68741564e+20\n",
      "   0.00000000e+00 -2.70653727e+19  4.56119395e+20  6.00602625e+20\n",
      "   0.00000000e+00  0.00000000e+00]]\n"
     ]
    }
   ],
   "source": [
    "n += 1\n",
    "criteria_met = iteracao(Lc, Le, Lr, H)\n",
    "print(f\"Iteração n: {n}\")\n",
    "print(f\"Mensagens Decision atualizada: {criteria_met}\")\n",
    "print(f\"Símbolos BPSK gerados:         {simbolos_bpsk}\")\n",
    "print(f\"Mensagens Le atualizada: {Le}\")\n",
    "print(f\"Mensagens Lr atualizada: {Lr}\")"
   ]
  },
  {
   "cell_type": "code",
   "execution_count": 946,
   "metadata": {},
   "outputs": [],
   "source": [
    "def ldpc_decode(Lc, H, max_iter=100):\n",
    "    Le, Lr = inicializar_mensagens(H)\n",
    "    n = 0\n",
    "\n",
    "    for iteration in range(max_iter):\n",
    "        n += 1\n",
    "        criteria_met = iteracao(Lc, Le, Lr, H)\n",
    "        if np.all(criteria_met == 0):\n",
    "            break\n",
    "    \n",
    "    print(f\"{n} iterações\")\n",
    "    # Decisão final\n",
    "    Lf = Lc + np.sum(Le, axis=0)\n",
    "    decoded_bits = np.sign(Lf)\n",
    "    return decoded_bits"
   ]
  },
  {
   "cell_type": "code",
   "execution_count": 947,
   "metadata": {},
   "outputs": [
    {
     "name": "stdout",
     "output_type": "stream",
     "text": [
      "100 iterações\n",
      "Bits gerados:       [ 1  1 -1 -1 -1 -1  1  1 -1  1]\n",
      "Bits decodificados: [ 1.  1. -1. -1.  1. -1.  1.  1. -1.  1.]\n"
     ]
    }
   ],
   "source": [
    "bits_decodificados = ldpc_decode(Lc, H)\n",
    "print(f\"Bits gerados:       {simbolos_bpsk}\")\n",
    "print(f\"Bits decodificados: {bits_decodificados}\")\n"
   ]
  },
  {
   "cell_type": "code",
   "execution_count": 948,
   "metadata": {},
   "outputs": [],
   "source": [
    "def calcular_ber(bits_originais, bits_decodificados):\n",
    "\n",
    "    erros = np.count_nonzero(bits_originais != bits_decodificados)\n",
    "    ber = erros / len(bits_originais)\n",
    "    return ber"
   ]
  },
  {
   "cell_type": "code",
   "execution_count": 949,
   "metadata": {},
   "outputs": [
    {
     "name": "stdout",
     "output_type": "stream",
     "text": [
      "Ber: 0.1\n"
     ]
    }
   ],
   "source": [
    "ber = calcular_ber(simbolos_bpsk, bits_decodificados)\n",
    "print(f\"Ber: {ber}\")"
   ]
  },
  {
   "cell_type": "code",
   "execution_count": 950,
   "metadata": {},
   "outputs": [],
   "source": [
    "def simular_desempenho_ldpc(H, num_bits, Eb_N0_dB_range, max_iter=50):\n",
    "    ber_results = []\n",
    "    \n",
    "    for Eb_N0_dB in Eb_N0_dB_range:\n",
    "        # Gerar símbolos BPSK\n",
    "        simbolos = gerar_simbolos_bpsk(num_bits)\n",
    "        \n",
    "        # Calcular valores recebidos com ruído\n",
    "        r = calcular_valor_recebido(simbolos, Eb_N0_dB)\n",
    "        \n",
    "        # Calcular valores LLR\n",
    "        sigma2 = calcular_variancia_ruido(Eb_N0_dB)\n",
    "        Lc = calcular_valores_llr(r, sigma2)\n",
    "        \n",
    "        # Decodificar\n",
    "        bits_decodificados = ldpc_decode(Lc, H, max_iter=max_iter)\n",
    "        \n",
    "        # Calcular BER\n",
    "        ber = calcular_ber(simbolos, bits_decodificados)\n",
    "        ber_results.append(ber)\n",
    "        \n",
    "    return ber_results"
   ]
  },
  {
   "cell_type": "code",
   "execution_count": 951,
   "metadata": {},
   "outputs": [],
   "source": [
    "# Definindo os parâmetros para simulação\n",
    "num_bits = 999\n",
    "Eb_N0_dB_range = np.arange(0, 5.5, 0.5)"
   ]
  },
  {
   "cell_type": "code",
   "execution_count": 952,
   "metadata": {},
   "outputs": [],
   "source": [
    "# Gerando a matriz LDPC\n",
    "N = num_bits\n",
    "dv = 4\n",
    "dc = 9\n",
    "K, M = set_params(N, dv, dc)\n",
    "H = generate_LDPC_matrix(N, dv, dc, K, M)"
   ]
  },
  {
   "cell_type": "code",
   "execution_count": 953,
   "metadata": {},
   "outputs": [
    {
     "name": "stdout",
     "output_type": "stream",
     "text": [
      "50 iterações\n",
      "50 iterações\n",
      "50 iterações\n",
      "50 iterações\n",
      "50 iterações\n",
      "50 iterações\n",
      "50 iterações\n",
      "50 iterações\n",
      "50 iterações\n",
      "50 iterações\n",
      "50 iterações\n"
     ]
    }
   ],
   "source": [
    "# Simulando o desempenho\n",
    "ber_results = simular_desempenho_ldpc(H, num_bits, Eb_N0_dB_range)"
   ]
  },
  {
   "cell_type": "code",
   "execution_count": 954,
   "metadata": {},
   "outputs": [],
   "source": [
    "def plotar_ber(Eb_N0_dB_range, ber_results):\n",
    "    plt.figure(figsize=(10, 6))\n",
    "    plt.plot(Eb_N0_dB_range, ber_results, marker='o', linestyle='-', color='b')\n",
    "    plt.yscale('log')\n",
    "    plt.xlabel('Eb/N0 (dB)')\n",
    "    plt.ylabel('Taxa de Erro de Bit (BER)')\n",
    "    plt.title('Desempenho do Código LDPC')\n",
    "    plt.grid(True, which='both', linestyle='--', linewidth=0.5)\n",
    "    plt.show()"
   ]
  },
  {
   "cell_type": "code",
   "execution_count": 955,
   "metadata": {},
   "outputs": [
    {
     "data": {
      "image/png": "[encoded data removed]",
      "text/plain": [
       "<Figure size 1000x600 with 1 Axes>"
      ]
     },
     "metadata": {},
     "output_type": "display_data"
    }
   ],
   "source": [
    "# Plotar o gráfico\n",
    "plotar_ber(Eb_N0_dB_range, ber_results)"
   ]
  },
  {
   "cell_type": "code",
   "execution_count": 956,
   "metadata": {},
   "outputs": [
    {
     "name": "stdout",
     "output_type": "stream",
     "text": [
      "Menor valor de Eb/N0 para BER < 10^-4: None dB\n"
     ]
    }
   ],
   "source": [
    "def encontrar_menor_eb_n0(ber_results, Eb_N0_dB_range, threshold=1e-4):\n",
    "    for Eb_N0_dB, ber in zip(Eb_N0_dB_range, ber_results):\n",
    "        if ber < threshold:\n",
    "            return Eb_N0_dB\n",
    "    return None\n",
    "\n",
    "# Encontrar o menor valor de Eb/N0 para BER < 10^-4\n",
    "menor_eb_n0 = encontrar_menor_eb_n0(ber_results, Eb_N0_dB_range)\n",
    "print(f\"Menor valor de Eb/N0 para BER < 10^-4: {menor_eb_n0} dB\")"
   ]
  },
  {
   "cell_type": "code",
   "execution_count": 143,
   "metadata": {},
   "outputs": [],
   "source": [
    "import csv\n",
    "\n",
    "def gerar_grafo_csv(H, filename='grafo_ldpc.csv'):\n",
    "    with open(filename, mode='w', newline='') as file:\n",
    "        writer = csv.writer(file)\n",
    "        for row in H:\n",
    "            indices = np.where(row == 1)[0]\n",
    "            writer.writerow(indices)\n",
    "\n",
    "# Exemplo de matriz H para N ≈ 1000\n",
    "H = generate_LDPC_matrix(N, dv, dc, K, M)\n",
    "\n",
    "# Gerar arquivo CSV\n",
    "gerar_grafo_csv(H)"
   ]
  }
 ],
 "metadata": {
  "kernelspec": {
   "display_name": "base",
   "language": "python",
   "name": "python3"
  },
  "language_info": {
   "codemirror_mode": {
    "name": "ipython",
    "version": 3
   },
   "file_extension": ".py",
   "mimetype": "text/x-python",
   "name": "python",
   "nbconvert_exporter": "python",
   "pygments_lexer": "ipython3",
   "version": "3.11.3"
  }
 },
 "nbformat": 4,
 "nbformat_minor": 2
}
