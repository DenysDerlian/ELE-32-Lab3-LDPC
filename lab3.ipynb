{
 "cells": [
  {
   "cell_type": "code",
   "execution_count": 755,
   "metadata": {},
   "outputs": [],
   "source": [
    "import numpy as np\n",
    "import matplotlib\n",
    "import matplotlib.pyplot as plt\n",
    "from numba import njit\n",
    "import networkx as nx"
   ]
  },
  {
   "cell_type": "code",
   "execution_count": 756,
   "metadata": {},
   "outputs": [],
   "source": [
    "def calcular_variancia_ruido(Eb_N0_dB):\n",
    "    Eb_N0 = 10**(Eb_N0_dB / 10)\n",
    "    N0 = 1 / Eb_N0\n",
    "    sigma2 = N0 / 2\n",
    "    return sigma2"
   ]
  },
  {
   "cell_type": "code",
   "execution_count": 757,
   "metadata": {},
   "outputs": [
    {
     "name": "stdout",
     "output_type": "stream",
     "text": [
      "Variância do ruído: 0.2505936168136362\n"
     ]
    }
   ],
   "source": [
    "variancia_ruido = calcular_variancia_ruido(3)\n",
    "print(f\"Variância do ruído: {variancia_ruido}\")"
   ]
  },
  {
   "cell_type": "code",
   "execution_count": 758,
   "metadata": {},
   "outputs": [],
   "source": [
    "def gerar_simbolos_bpsk(num_bits):\n",
    "    return np.random.choice([-1, 1], num_bits)"
   ]
  },
  {
   "cell_type": "code",
   "execution_count": 759,
   "metadata": {},
   "outputs": [
    {
     "name": "stdout",
     "output_type": "stream",
     "text": [
      "Símbolos BPSK gerados: [ 1 -1 -1 -1  1  1 -1 -1  1 -1]\n"
     ]
    }
   ],
   "source": [
    "simbolos_bpsk = gerar_simbolos_bpsk(10)\n",
    "print(f\"Símbolos BPSK gerados: {simbolos_bpsk}\")"
   ]
  },
  {
   "cell_type": "code",
   "execution_count": 760,
   "metadata": {},
   "outputs": [],
   "source": [
    "def calcular_valor_recebido(simbolos, Eb_N0_dB):\n",
    "    sigma2 = calcular_variancia_ruido(Eb_N0_dB)\n",
    "    sigma = np.sqrt(sigma2)\n",
    "    ruido = sigma * np.random.randn(len(simbolos))\n",
    "    r = simbolos + ruido\n",
    "    return r"
   ]
  },
  {
   "cell_type": "code",
   "execution_count": 761,
   "metadata": {},
   "outputs": [
    {
     "name": "stdout",
     "output_type": "stream",
     "text": [
      "Valores recebidos: [ 1.04131254 -0.89442623 -1.020565   -0.46753669 -0.04457349  0.53205499\n",
      " -1.20451021 -1.48538063  1.2912459  -0.47718774]\n"
     ]
    }
   ],
   "source": [
    "valores_recebidos = calcular_valor_recebido(simbolos_bpsk, 3)\n",
    "print(f\"Valores recebidos: {valores_recebidos}\")"
   ]
  },
  {
   "cell_type": "code",
   "execution_count": 762,
   "metadata": {},
   "outputs": [],
   "source": [
    "def calcular_valores_llr(r, sigma2):\n",
    "    llr = 2 * r / sigma2\n",
    "    return llr"
   ]
  },
  {
   "cell_type": "code",
   "execution_count": 763,
   "metadata": {},
   "outputs": [
    {
     "name": "stdout",
     "output_type": "stream",
     "text": [
      "Valores LLR: [  8.3107667   -7.13845982  -8.1451795   -3.73143334  -0.35574319\n",
      "   4.24635712  -9.61325532 -11.85489601  10.3054971   -3.80845887]\n"
     ]
    }
   ],
   "source": [
    "Lc = calcular_valores_llr(valores_recebidos, variancia_ruido)\n",
    "print(f\"Valores LLR: {Lc}\")"
   ]
  },
  {
   "cell_type": "code",
   "execution_count": 764,
   "metadata": {},
   "outputs": [],
   "source": [
    "@njit\n",
    "def set_params(N: int, dv: int, dc: int) -> tuple[int, int]:\n",
    "    if (N  % dc != 0):\n",
    "        raise ValueError(\"N must be divisible by dc\")\n",
    "    else:\n",
    "        K = int(N / dc)\n",
    "        M = int(K * dv)\n",
    "        return (K, M)"
   ]
  },
  {
   "cell_type": "code",
   "execution_count": 765,
   "metadata": {},
   "outputs": [
    {
     "name": "stdout",
     "output_type": "stream",
     "text": [
      "K: 2; M: 6\n"
     ]
    }
   ],
   "source": [
    "N = 10\n",
    "dv = 3\n",
    "dc = 5\n",
    "K, M = set_params(N, dv, dc)\n",
    "print(f\"K: {K}; M: {M}\")"
   ]
  },
  {
   "cell_type": "code",
   "execution_count": 766,
   "metadata": {},
   "outputs": [],
   "source": [
    "@njit\n",
    "def generate_LDPC_matrix(N, dv, dc, K, M):\n",
    "    H1 = np.zeros((K, N), dtype=np.int32)\n",
    "    for i in range(len(H1)):\n",
    "        H1[i][i * dc:(i + 1) * dc] = 1\n",
    "\n",
    "    H = H1\n",
    "\n",
    "    for _ in range(dv - 1):\n",
    "        perm = np.random.permutation(N)\n",
    "        H2 = H1[:, perm]\n",
    "        H = np.concatenate((H, H2), axis=0)\n",
    "\n",
    "    return H"
   ]
  },
  {
   "cell_type": "code",
   "execution_count": 767,
   "metadata": {},
   "outputs": [
    {
     "name": "stdout",
     "output_type": "stream",
     "text": [
      "Matriz LDPC gerada: \n",
      "[[1 1 1 1 1 0 0 0 0 0]\n",
      " [0 0 0 0 0 1 1 1 1 1]\n",
      " [1 1 0 0 0 1 1 0 1 0]\n",
      " [0 0 1 1 1 0 0 1 0 1]\n",
      " [0 0 1 0 1 0 1 0 1 1]\n",
      " [1 1 0 1 0 1 0 1 0 0]]\n"
     ]
    }
   ],
   "source": [
    "H = generate_LDPC_matrix(N, dv, dc, K, M)\n",
    "print(f\"Matriz LDPC gerada: \\n{H}\")"
   ]
  },
  {
   "cell_type": "code",
   "execution_count": 768,
   "metadata": {},
   "outputs": [],
   "source": [
    "def inicializar_mensagens(H):\n",
    "    num_cnodes, num_vnodes = H.shape\n",
    "    Le = np.zeros((num_cnodes, num_vnodes))  # Mensagens dos c-nodes para os v-nodes\n",
    "    Lr = np.zeros((num_cnodes, num_vnodes))  # Mensagens dos v-nodes para os c-nodes\n",
    "    return Le, Lr"
   ]
  },
  {
   "cell_type": "code",
   "execution_count": 769,
   "metadata": {},
   "outputs": [
    {
     "name": "stdout",
     "output_type": "stream",
     "text": [
      "Mensagens Le iniciais: [[0. 0. 0. 0. 0. 0. 0. 0. 0. 0.]\n",
      " [0. 0. 0. 0. 0. 0. 0. 0. 0. 0.]\n",
      " [0. 0. 0. 0. 0. 0. 0. 0. 0. 0.]\n",
      " [0. 0. 0. 0. 0. 0. 0. 0. 0. 0.]\n",
      " [0. 0. 0. 0. 0. 0. 0. 0. 0. 0.]\n",
      " [0. 0. 0. 0. 0. 0. 0. 0. 0. 0.]]\n",
      "Mensagens Lr iniciais: [[0. 0. 0. 0. 0. 0. 0. 0. 0. 0.]\n",
      " [0. 0. 0. 0. 0. 0. 0. 0. 0. 0.]\n",
      " [0. 0. 0. 0. 0. 0. 0. 0. 0. 0.]\n",
      " [0. 0. 0. 0. 0. 0. 0. 0. 0. 0.]\n",
      " [0. 0. 0. 0. 0. 0. 0. 0. 0. 0.]\n",
      " [0. 0. 0. 0. 0. 0. 0. 0. 0. 0.]]\n"
     ]
    }
   ],
   "source": [
    "Le, Lr = inicializar_mensagens(H)\n",
    "print(f\"Mensagens Le iniciais: {Le}\")\n",
    "print(f\"Mensagens Lr iniciais: {Lr}\")"
   ]
  },
  {
   "cell_type": "code",
   "execution_count": 770,
   "metadata": {},
   "outputs": [],
   "source": [
    "def atualizar_mensagens_vnodes(Lr, Lc, Le, H):\n",
    "    num_cnodes, num_vnodes = H.shape\n",
    "    for i in range(num_vnodes):\n",
    "        for j in range(num_cnodes):\n",
    "            if H[j, i] == 1:\n",
    "                Lr[j, i] = Lc[i] + np.sum(Le[:, i]) - Le[j, i]\n",
    "    return Lr"
   ]
  },
  {
   "cell_type": "code",
   "execution_count": 771,
   "metadata": {},
   "outputs": [
    {
     "name": "stdout",
     "output_type": "stream",
     "text": [
      "Mensagens Lr atualizadas: [[  8.3107667   -7.13845982  -8.1451795   -3.73143334  -0.35574319\n",
      "    0.           0.           0.           0.           0.        ]\n",
      " [  0.           0.           0.           0.           0.\n",
      "    4.24635712  -9.61325532 -11.85489601  10.3054971   -3.80845887]\n",
      " [  8.3107667   -7.13845982   0.           0.           0.\n",
      "    4.24635712  -9.61325532   0.          10.3054971    0.        ]\n",
      " [  0.           0.          -8.1451795   -3.73143334  -0.35574319\n",
      "    0.           0.         -11.85489601   0.          -3.80845887]\n",
      " [  0.           0.          -8.1451795    0.          -0.35574319\n",
      "    0.          -9.61325532   0.          10.3054971   -3.80845887]\n",
      " [  8.3107667   -7.13845982   0.          -3.73143334   0.\n",
      "    4.24635712   0.         -11.85489601   0.           0.        ]]\n"
     ]
    }
   ],
   "source": [
    "Lr = atualizar_mensagens_vnodes(Lr, Lc, Le, H)\n",
    "print(f\"Mensagens Lr atualizadas: {Lr}\")"
   ]
  },
  {
   "cell_type": "code",
   "execution_count": 772,
   "metadata": {},
   "outputs": [],
   "source": [
    "def atualizar_mensagens_cnodes(Le, Lr, H):\n",
    "    num_cnodes, num_vnodes = H.shape\n",
    "    for j in range(num_cnodes):\n",
    "        for i in range(num_vnodes):\n",
    "            if H[j, i] == 1:\n",
    "                # Calcula o produto dos sinais\n",
    "                product_sign = 1\n",
    "                min_value = float('inf')\n",
    "                for k in range(num_vnodes):\n",
    "                    if k != i and H[j, k] == 1:\n",
    "                        product_sign *= np.sign(Lr[j, k])\n",
    "                        min_value = min(min_value, abs(Lr[j, k]))\n",
    "                # Calcula a mensagem de saída usando a equação 11\n",
    "                Le[j, i] = product_sign * min_value\n",
    "    return Le"
   ]
  },
  {
   "cell_type": "code",
   "execution_count": 773,
   "metadata": {},
   "outputs": [
    {
     "name": "stdout",
     "output_type": "stream",
     "text": [
      "Mensagens Le atualizadas: [[ 0.35574319 -0.35574319 -0.35574319 -0.35574319 -3.73143334  0.\n",
      "   0.          0.          0.          0.        ]\n",
      " [ 0.          0.          0.          0.          0.         -3.80845887\n",
      "   3.80845887  3.80845887 -3.80845887  4.24635712]\n",
      " [ 4.24635712 -4.24635712  0.          0.          0.          7.13845982\n",
      "  -4.24635712  0.          4.24635712  0.        ]\n",
      " [ 0.          0.          0.35574319  0.35574319  3.73143334  0.\n",
      "   0.          0.35574319  0.          0.35574319]\n",
      " [ 0.          0.         -0.35574319  0.         -3.80845887  0.\n",
      "  -0.35574319  0.          0.35574319 -0.35574319]\n",
      " [-3.73143334  3.73143334  0.          4.24635712  0.         -3.73143334\n",
      "   0.          3.73143334  0.          0.        ]]\n"
     ]
    }
   ],
   "source": [
    "Le = atualizar_mensagens_cnodes(Le, Lr, H)\n",
    "print(f\"Mensagens Le atualizadas: {Le}\")"
   ]
  },
  {
   "cell_type": "code",
   "execution_count": 774,
   "metadata": {},
   "outputs": [],
   "source": [
    "def iteracao(Lc, Le, Lr, H):\n",
    "    num_cnodes = H.shape[0]\n",
    "    # Atualizar mensagens dos v-nodes\n",
    "    Lr = atualizar_mensagens_vnodes(Lr, Lc, Le, H)\n",
    "    \n",
    "    # Atualizar mensagens dos c-nodes\n",
    "    Le = atualizar_mensagens_cnodes(Le, Lr, H)\n",
    "    \n",
    "    rows, cols = Lr.shape\n",
    "    parity_checks = []\n",
    "    # Iterate over each c-node (row)\n",
    "    for i in range(rows):\n",
    "        signs = np.sign(Lr[i])\n",
    "        # Filter out zeros\n",
    "        non_zero_signs = signs[signs != 0]\n",
    "        # Check if the product of signs is positive\n",
    "        product_of_signs = np.prod(non_zero_signs)\n",
    "        if product_of_signs > 0:\n",
    "            parity_checks.append(1)\n",
    "        else:\n",
    "            parity_checks.append(0)\n",
    "    return parity_checks"
   ]
  },
  {
   "cell_type": "code",
   "execution_count": 775,
   "metadata": {},
   "outputs": [],
   "source": [
    "n = 0"
   ]
  },
  {
   "cell_type": "code",
   "execution_count": 814,
   "metadata": {},
   "outputs": [
    {
     "name": "stdout",
     "output_type": "stream",
     "text": [
      "Iteração n: 28\n",
      "Mensagens Decision atualizada: [1, 1, 1, 1, 1, 1]\n",
      "Símbolos BPSK gerados:         [ 1 -1 -1 -1  1  1 -1 -1  1 -1]\n",
      "Mensagens Le atualizada: [[ 1119.48606146 -1119.48606146 -1124.57831741  1119.48606146\n",
      "   1119.48606146     0.             0.             0.\n",
      "      0.             0.        ]\n",
      " [    0.             0.             0.             0.\n",
      "      0.          1107.53242309 -1107.53242309 -1107.53242309\n",
      "   1107.53242309  1125.47921206]\n",
      " [ 1121.96378151 -1121.96378151     0.             0.\n",
      "      0.          1122.4954246  -1121.96378151     0.\n",
      "   1121.96378151     0.        ]\n",
      " [    0.             0.         -1123.91319616  1121.21871019\n",
      "   1121.21871019     0.             0.         -1121.21871019\n",
      "      0.          1121.21871019]\n",
      " [    0.             0.         -1116.06580461     0.\n",
      "   1113.37131864     0.         -1113.37131864     0.\n",
      "   1113.37131864  1113.37131864]\n",
      " [ 1101.49470579 -1101.49470579     0.          1119.44149476\n",
      "      0.          1101.49470579     0.         -1101.49470579\n",
      "      0.             0.        ]]\n",
      "Mensagens Lr atualizada: [[ 1131.8667709  -1131.8667709  -1119.48606146  1124.57831741\n",
      "   1125.55288016     0.             0.             0.\n",
      "      0.             0.        ]\n",
      " [    0.             0.             0.             0.\n",
      "      0.          1127.80236132 -1130.88582543 -1125.47921206\n",
      "   1131.57806721  1107.53242309]\n",
      " [ 1123.66773147 -1122.4954246      0.             0.\n",
      "      0.          1121.96378151 -1125.04724563     0.\n",
      "   1125.73948741     0.        ]\n",
      " [    0.             0.         -1121.21871019  1126.31096613\n",
      "   1126.4219446      0.             0.         -1129.5723204\n",
      "      0.          1123.91319616]\n",
      " [    0.             0.         -1113.37131864     0.\n",
      "   1117.52043246     0.         -1127.13154222     0.\n",
      "   1127.823784    1116.06580461]\n",
      " [ 1123.46859398 -1123.46859398     0.          1101.49470579\n",
      "      0.          1121.76464402     0.         -1119.44149476\n",
      "      0.             0.        ]]\n"
     ]
    }
   ],
   "source": [
    "n += 1\n",
    "parity_checks = iteracao(Lc, Le, Lr, H)\n",
    "print(f\"Iteração n: {n}\")\n",
    "print(f\"Mensagens Decision atualizada: {parity_checks}\")\n",
    "print(f\"Símbolos BPSK gerados:         {simbolos_bpsk}\")\n",
    "print(f\"Mensagens Le atualizada: {Le}\")\n",
    "print(f\"Mensagens Lr atualizada: {Lr}\")"
   ]
  },
  {
   "cell_type": "code",
   "execution_count": 811,
   "metadata": {},
   "outputs": [],
   "source": [
    "def ldpc_decode(Lc, H, max_iter=100):\n",
    "    Le, Lr = inicializar_mensagens(H)\n",
    "    n = 0\n",
    "\n",
    "\n",
    "    for iteration in range(max_iter):\n",
    "        n += 1\n",
    "        parity_checks = iteracao(Lc, Le, Lr, H)\n",
    "        if all(parity_checks):\n",
    "            break\n",
    "    \n",
    "    print(f\"{n} iterações\")\n",
    "\n",
    "    # Decisão final\n",
    "    Lf = np.zeros(len(Lc))\n",
    "    for i in range(len(Lc)):\n",
    "        Lf[i] = Lc[i] + np.sum(Le[:, i])\n",
    "    decoded_bits = np.sign(Lf)\n",
    "    return decoded_bits"
   ]
  },
  {
   "cell_type": "code",
   "execution_count": 813,
   "metadata": {},
   "outputs": [
    {
     "name": "stdout",
     "output_type": "stream",
     "text": [
      "22 iterações\n",
      "Bits gerados:       [ 1 -1 -1 -1  1  1 -1 -1  1 -1]\n",
      "Bits decodificados: [ 1. -1. -1.  1.  1.  1. -1. -1.  1.  1.]\n"
     ]
    }
   ],
   "source": [
    "bits_decodificados = ldpc_decode(Lc, H)\n",
    "simbolos_bpsk = np.sign(simbolos_bpsk)\n",
    "print(f\"Bits gerados:       {simbolos_bpsk}\")\n",
    "print(f\"Bits decodificados: {bits_decodificados}\")\n"
   ]
  },
  {
   "cell_type": "code",
   "execution_count": 815,
   "metadata": {},
   "outputs": [],
   "source": [
    "def calcular_ber(bits_originais, bits_decodificados):\n",
    "\n",
    "    erros = np.count_nonzero(bits_originais != bits_decodificados)\n",
    "    ber = erros / len(bits_originais)\n",
    "    return ber"
   ]
  },
  {
   "cell_type": "code",
   "execution_count": 816,
   "metadata": {},
   "outputs": [
    {
     "name": "stdout",
     "output_type": "stream",
     "text": [
      "Ber: 0.2\n"
     ]
    }
   ],
   "source": [
    "ber = calcular_ber(simbolos_bpsk, bits_decodificados)\n",
    "print(f\"Ber: {ber}\")"
   ]
  },
  {
   "cell_type": "code",
   "execution_count": 817,
   "metadata": {},
   "outputs": [],
   "source": [
    "def simular_desempenho_ldpc(H, num_bits, Eb_N0_dB_range, max_iter=50):\n",
    "    ber_results = []\n",
    "    \n",
    "    for Eb_N0_dB in Eb_N0_dB_range:\n",
    "        # Gerar símbolos BPSK\n",
    "        simbolos = gerar_simbolos_bpsk(num_bits)\n",
    "        \n",
    "        # Calcular valores recebidos com ruído\n",
    "        r = calcular_valor_recebido(simbolos, Eb_N0_dB)\n",
    "        \n",
    "        # Calcular valores LLR\n",
    "        sigma2 = calcular_variancia_ruido(Eb_N0_dB)\n",
    "        Lc = calcular_valores_llr(r, sigma2)\n",
    "        \n",
    "        # Decodificar\n",
    "        bits_decodificados = ldpc_decode(Lc, H, max_iter=max_iter)\n",
    "        \n",
    "        # Calcular BER\n",
    "        ber = calcular_ber(simbolos, bits_decodificados)\n",
    "        ber_results.append(ber)\n",
    "        \n",
    "    return ber_results"
   ]
  },
  {
   "cell_type": "code",
   "execution_count": 818,
   "metadata": {},
   "outputs": [],
   "source": [
    "# Definindo os parâmetros para simulação\n",
    "num_bits = 999\n",
    "Eb_N0_dB_range = np.arange(0, 5.5, 0.5)"
   ]
  },
  {
   "cell_type": "code",
   "execution_count": 819,
   "metadata": {},
   "outputs": [],
   "source": [
    "# Gerando a matriz LDPC\n",
    "N = num_bits\n",
    "dv = 4\n",
    "dc = 9\n",
    "K, M = set_params(N, dv, dc)\n",
    "H = generate_LDPC_matrix(N, dv, dc, K, M)"
   ]
  },
  {
   "cell_type": "code",
   "execution_count": 820,
   "metadata": {},
   "outputs": [
    {
     "name": "stdout",
     "output_type": "stream",
     "text": [
      "50 iterações\n",
      "50 iterações\n",
      "50 iterações\n",
      "50 iterações\n",
      "50 iterações\n",
      "50 iterações\n",
      "50 iterações\n",
      "50 iterações\n",
      "50 iterações\n",
      "50 iterações\n",
      "50 iterações\n"
     ]
    }
   ],
   "source": [
    "# Simulando o desempenho\n",
    "ber_results = simular_desempenho_ldpc(H, num_bits, Eb_N0_dB_range)"
   ]
  },
  {
   "cell_type": "code",
   "execution_count": 821,
   "metadata": {},
   "outputs": [],
   "source": [
    "def plotar_ber(Eb_N0_dB_range, ber_results):\n",
    "    plt.figure(figsize=(10, 6))\n",
    "    plt.plot(Eb_N0_dB_range, ber_results, marker='o', linestyle='-', color='b')\n",
    "    plt.yscale('log')\n",
    "    plt.xlabel('Eb/N0 (dB)')\n",
    "    plt.ylabel('Taxa de Erro de Bit (BER)')\n",
    "    plt.title('Desempenho do Código LDPC')\n",
    "    plt.grid(True, which='both', linestyle='--', linewidth=0.5)\n",
    "    plt.show()"
   ]
  },
  {
   "cell_type": "code",
   "execution_count": 822,
   "metadata": {},
   "outputs": [
    {
     "data": {
      "image/png": "[encoded data removed]",
      "text/plain": [
       "<Figure size 1000x600 with 1 Axes>"
      ]
     },
     "metadata": {},
     "output_type": "display_data"
    }
   ],
   "source": [
    "# Plotar o gráfico\n",
    "plotar_ber(Eb_N0_dB_range, ber_results)"
   ]
  },
  {
   "cell_type": "code",
   "execution_count": 823,
   "metadata": {},
   "outputs": [
    {
     "name": "stdout",
     "output_type": "stream",
     "text": [
      "Menor valor de Eb/N0 para BER < 10^-4: None dB\n"
     ]
    }
   ],
   "source": [
    "def encontrar_menor_eb_n0(ber_results, Eb_N0_dB_range, threshold=1e-4):\n",
    "    for Eb_N0_dB, ber in zip(Eb_N0_dB_range, ber_results):\n",
    "        if ber < threshold:\n",
    "            return Eb_N0_dB\n",
    "    return None\n",
    "\n",
    "# Encontrar o menor valor de Eb/N0 para BER < 10^-4\n",
    "menor_eb_n0 = encontrar_menor_eb_n0(ber_results, Eb_N0_dB_range)\n",
    "print(f\"Menor valor de Eb/N0 para BER < 10^-4: {menor_eb_n0} dB\")"
   ]
  },
  {
   "cell_type": "code",
   "execution_count": 143,
   "metadata": {},
   "outputs": [],
   "source": [
    "import csv\n",
    "\n",
    "def gerar_grafo_csv(H, filename='grafo_ldpc.csv'):\n",
    "    with open(filename, mode='w', newline='') as file:\n",
    "        writer = csv.writer(file)\n",
    "        for row in H:\n",
    "            indices = np.where(row == 1)[0]\n",
    "            writer.writerow(indices)\n",
    "\n",
    "# Gerar arquivo CSV\n",
    "gerar_grafo_csv(H)"
   ]
  }
 ],
 "metadata": {
  "kernelspec": {
   "display_name": "base",
   "language": "python",
   "name": "python3"
  },
  "language_info": {
   "codemirror_mode": {
    "name": "ipython",
    "version": 3
   },
   "file_extension": ".py",
   "mimetype": "text/x-python",
   "name": "python",
   "nbconvert_exporter": "python",
   "pygments_lexer": "ipython3",
   "version": "3.11.3"
  }
 },
 "nbformat": 4,
 "nbformat_minor": 2
}
