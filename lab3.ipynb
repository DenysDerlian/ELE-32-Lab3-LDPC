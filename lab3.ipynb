{
 "cells": [
  {
   "cell_type": "code",
   "execution_count": 467,
   "metadata": {},
   "outputs": [],
   "source": [
    "import numpy as np\n",
    "import matplotlib\n",
    "import matplotlib.pyplot as plt\n",
    "from numba import njit\n",
    "import networkx as nx"
   ]
  },
  {
   "cell_type": "code",
   "execution_count": 468,
   "metadata": {},
   "outputs": [],
   "source": [
    "def calcular_variancia_ruido(Eb_N0_dB):\n",
    "    Eb_N0 = 10**(Eb_N0_dB / 10)\n",
    "    N0 = 1 / Eb_N0\n",
    "    sigma2 = N0 / 2\n",
    "    return sigma2"
   ]
  },
  {
   "cell_type": "code",
   "execution_count": 469,
   "metadata": {},
   "outputs": [
    {
     "name": "stdout",
     "output_type": "stream",
     "text": [
      "Variância do ruído: 0.2505936168136362\n"
     ]
    }
   ],
   "source": [
    "variancia_ruido = calcular_variancia_ruido(3)\n",
    "print(f\"Variância do ruído: {variancia_ruido}\")"
   ]
  },
  {
   "cell_type": "code",
   "execution_count": 470,
   "metadata": {},
   "outputs": [],
   "source": [
    "def gerar_simbolos_bpsk(num_bits):\n",
    "    return np.random.choice([-1, 1], num_bits)"
   ]
  },
  {
   "cell_type": "code",
   "execution_count": 471,
   "metadata": {},
   "outputs": [
    {
     "name": "stdout",
     "output_type": "stream",
     "text": [
      "Símbolos BPSK gerados: [-1 -1 -1 -1 -1 -1 -1 -1  1 -1]\n"
     ]
    }
   ],
   "source": [
    "simbolos_bpsk = gerar_simbolos_bpsk(10)\n",
    "print(f\"Símbolos BPSK gerados: {simbolos_bpsk}\")"
   ]
  },
  {
   "cell_type": "code",
   "execution_count": 472,
   "metadata": {},
   "outputs": [],
   "source": [
    "def calcular_valor_recebido(simbolos, Eb_N0_dB):\n",
    "    sigma2 = calcular_variancia_ruido(Eb_N0_dB)\n",
    "    sigma = np.sqrt(sigma2)\n",
    "    ruido = sigma * np.random.randn(len(simbolos))\n",
    "    r = simbolos + ruido\n",
    "    return r"
   ]
  },
  {
   "cell_type": "code",
   "execution_count": 473,
   "metadata": {},
   "outputs": [
    {
     "name": "stdout",
     "output_type": "stream",
     "text": [
      "Valores recebidos: [-1.44952257 -0.62154719 -0.76444732 -0.49017836 -0.4256819  -1.28921719\n",
      " -1.17897158 -0.83530837  0.96463777 -1.0266985 ]\n"
     ]
    }
   ],
   "source": [
    "valores_recebidos = calcular_valor_recebido(simbolos_bpsk, 3)\n",
    "print(f\"Valores recebidos: {valores_recebidos}\")"
   ]
  },
  {
   "cell_type": "code",
   "execution_count": 474,
   "metadata": {},
   "outputs": [],
   "source": [
    "def calcular_valores_llr(r, sigma2):\n",
    "    llr = 2 * r / sigma2\n",
    "    return llr"
   ]
  },
  {
   "cell_type": "code",
   "execution_count": 475,
   "metadata": {},
   "outputs": [
    {
     "name": "stdout",
     "output_type": "stream",
     "text": [
      "Valores LLR: [-11.56871103  -4.96059876  -6.10109175  -3.91213763  -3.3973882\n",
      " -10.2893059   -9.40943026  -6.66663723   7.69882156  -8.1941313 ]\n"
     ]
    }
   ],
   "source": [
    "Lc = calcular_valores_llr(valores_recebidos, variancia_ruido)\n",
    "print(f\"Valores LLR: {Lc}\")"
   ]
  },
  {
   "cell_type": "code",
   "execution_count": 476,
   "metadata": {},
   "outputs": [],
   "source": [
    "@njit\n",
    "def set_params(N: int, dv: int, dc: int) -> tuple[int, int]:\n",
    "    if (N  % dc != 0):\n",
    "        raise ValueError(\"N must be divisible by dc\")\n",
    "    else:\n",
    "        K = int(N / dc)\n",
    "        M = int(K * dv)\n",
    "        return (K, M)"
   ]
  },
  {
   "cell_type": "code",
   "execution_count": 477,
   "metadata": {},
   "outputs": [
    {
     "name": "stdout",
     "output_type": "stream",
     "text": [
      "K: 2; M: 6\n"
     ]
    }
   ],
   "source": [
    "N = 10\n",
    "dv = 3\n",
    "dc = 5\n",
    "K, M = set_params(N, dv, dc)\n",
    "print(f\"K: {K}; M: {M}\")"
   ]
  },
  {
   "cell_type": "code",
   "execution_count": 478,
   "metadata": {},
   "outputs": [],
   "source": [
    "@njit\n",
    "def generate_LDPC_matrix(N, dv, dc, K, M):\n",
    "    H1 = np.zeros((K, N), dtype=np.int32)\n",
    "    for i in range(len(H1)):\n",
    "        H1[i][i * dc:(i + 1) * dc] = 1\n",
    "\n",
    "    H = H1\n",
    "\n",
    "    for _ in range(dv - 1):\n",
    "        perm = np.random.permutation(N)\n",
    "        H2 = H1[:, perm]\n",
    "        H = np.concatenate((H, H2), axis=0)\n",
    "\n",
    "    return H"
   ]
  },
  {
   "cell_type": "code",
   "execution_count": 479,
   "metadata": {},
   "outputs": [
    {
     "name": "stdout",
     "output_type": "stream",
     "text": [
      "Matriz LDPC gerada: \n",
      "[[1 1 1 1 1 0 0 0 0 0]\n",
      " [0 0 0 0 0 1 1 1 1 1]\n",
      " [1 0 1 0 0 0 1 1 0 1]\n",
      " [0 1 0 1 1 1 0 0 1 0]\n",
      " [0 0 0 1 1 1 1 0 0 1]\n",
      " [1 1 1 0 0 0 0 1 1 0]]\n"
     ]
    }
   ],
   "source": [
    "H = generate_LDPC_matrix(N, dv, dc, K, M)\n",
    "print(f\"Matriz LDPC gerada: \\n{H}\")"
   ]
  },
  {
   "cell_type": "code",
   "execution_count": 480,
   "metadata": {},
   "outputs": [],
   "source": [
    "def inicializar_mensagens(H):\n",
    "    num_cnodes, num_vnodes = H.shape\n",
    "    Le = np.zeros((num_cnodes, num_vnodes))  # Mensagens dos c-nodes para os v-nodes\n",
    "    Lr = np.zeros((num_cnodes, num_vnodes))  # Mensagens dos v-nodes para os c-nodes\n",
    "    return Le, Lr"
   ]
  },
  {
   "cell_type": "code",
   "execution_count": 481,
   "metadata": {},
   "outputs": [
    {
     "name": "stdout",
     "output_type": "stream",
     "text": [
      "Mensagens Le iniciais: [[0. 0. 0. 0. 0. 0. 0. 0. 0. 0.]\n",
      " [0. 0. 0. 0. 0. 0. 0. 0. 0. 0.]\n",
      " [0. 0. 0. 0. 0. 0. 0. 0. 0. 0.]\n",
      " [0. 0. 0. 0. 0. 0. 0. 0. 0. 0.]\n",
      " [0. 0. 0. 0. 0. 0. 0. 0. 0. 0.]\n",
      " [0. 0. 0. 0. 0. 0. 0. 0. 0. 0.]]\n",
      "Mensagens Lr iniciais: [[0. 0. 0. 0. 0. 0. 0. 0. 0. 0.]\n",
      " [0. 0. 0. 0. 0. 0. 0. 0. 0. 0.]\n",
      " [0. 0. 0. 0. 0. 0. 0. 0. 0. 0.]\n",
      " [0. 0. 0. 0. 0. 0. 0. 0. 0. 0.]\n",
      " [0. 0. 0. 0. 0. 0. 0. 0. 0. 0.]\n",
      " [0. 0. 0. 0. 0. 0. 0. 0. 0. 0.]]\n"
     ]
    }
   ],
   "source": [
    "Le, Lr = inicializar_mensagens(H)\n",
    "print(f\"Mensagens Le iniciais: {Le}\")\n",
    "print(f\"Mensagens Lr iniciais: {Lr}\")"
   ]
  },
  {
   "cell_type": "code",
   "execution_count": 482,
   "metadata": {},
   "outputs": [],
   "source": [
    "def atualizar_mensagens_vnodes(Lr, Lc, Le, H):\n",
    "    num_cnodes, num_vnodes = H.shape\n",
    "    for i in range(num_vnodes):\n",
    "        for j in range(num_cnodes):\n",
    "            if H[j, i] == 1:\n",
    "                Lr[j, i] = Lc[i] + np.sum(Le[:, i]) - Le[j, i]\n",
    "    return Lr"
   ]
  },
  {
   "cell_type": "code",
   "execution_count": 483,
   "metadata": {},
   "outputs": [
    {
     "name": "stdout",
     "output_type": "stream",
     "text": [
      "Mensagens Lr atualizadas: [[-11.56871103  -4.96059876  -6.10109175  -3.91213763  -3.3973882\n",
      "    0.           0.           0.           0.           0.        ]\n",
      " [  0.           0.           0.           0.           0.\n",
      "  -10.2893059   -9.40943026  -6.66663723   7.69882156  -8.1941313 ]\n",
      " [-11.56871103   0.          -6.10109175   0.           0.\n",
      "    0.          -9.40943026  -6.66663723   0.          -8.1941313 ]\n",
      " [  0.          -4.96059876   0.          -3.91213763  -3.3973882\n",
      "  -10.2893059    0.           0.           7.69882156   0.        ]\n",
      " [  0.           0.           0.          -3.91213763  -3.3973882\n",
      "  -10.2893059   -9.40943026   0.           0.          -8.1941313 ]\n",
      " [-11.56871103  -4.96059876  -6.10109175   0.           0.\n",
      "    0.           0.          -6.66663723   7.69882156   0.        ]]\n"
     ]
    }
   ],
   "source": [
    "Lr = atualizar_mensagens_vnodes(Lr, Lc, Le, H)\n",
    "print(f\"Mensagens Lr atualizadas: {Lr}\")"
   ]
  },
  {
   "cell_type": "code",
   "execution_count": 484,
   "metadata": {},
   "outputs": [],
   "source": [
    "def atualizar_mensagens_cnodes(Le, Lr, H):\n",
    "    num_cnodes, num_vnodes = H.shape\n",
    "    for j in range(num_cnodes):\n",
    "        for i in range(num_vnodes):\n",
    "            if H[j, i] == 1:\n",
    "                # Calcula o produto dos sinais\n",
    "                product_sign = 1\n",
    "                min_value = float('inf')\n",
    "                for k in range(num_vnodes):\n",
    "                    if k != i and H[j, k] == 1:\n",
    "                        product_sign *= np.sign(Lr[j, k])\n",
    "                        min_value = min(min_value, abs(Lr[j, k]))\n",
    "                # Calcula a mensagem de saída usando a equação 11\n",
    "                Le[j, i] = product_sign * min_value\n",
    "    return Le"
   ]
  },
  {
   "cell_type": "code",
   "execution_count": 485,
   "metadata": {},
   "outputs": [
    {
     "name": "stdout",
     "output_type": "stream",
     "text": [
      "Mensagens Le atualizadas: [[ 3.3973882   3.3973882   3.3973882   3.3973882   3.91213763  0.\n",
      "   0.          0.          0.          0.        ]\n",
      " [ 0.          0.          0.          0.          0.         -6.66663723\n",
      "  -6.66663723 -7.69882156  6.66663723 -6.66663723]\n",
      " [ 6.10109175  0.          6.66663723  0.          0.          0.\n",
      "   6.10109175  6.10109175  0.          6.10109175]\n",
      " [ 0.         -3.3973882   0.         -3.3973882  -3.91213763 -3.3973882\n",
      "   0.          0.          3.3973882   0.        ]\n",
      " [ 0.          0.          0.          3.3973882   3.91213763  3.3973882\n",
      "   3.3973882   0.          0.          3.3973882 ]\n",
      " [-4.96059876 -6.10109175 -4.96059876  0.          0.          0.\n",
      "   0.         -4.96059876  4.96059876  0.        ]]\n"
     ]
    }
   ],
   "source": [
    "Le = atualizar_mensagens_cnodes(Le, Lr, H)\n",
    "print(f\"Mensagens Le atualizadas: {Le}\")"
   ]
  },
  {
   "cell_type": "code",
   "execution_count": 486,
   "metadata": {},
   "outputs": [],
   "source": [
    "def iteracao(Lc, Le, Lr, H):\n",
    "    num_cnodes = H.shape[0]\n",
    "    # Atualizar mensagens dos v-nodes\n",
    "    Lr = atualizar_mensagens_vnodes(Lr, Lc, Le, H)\n",
    "    \n",
    "    # Atualizar mensagens dos c-nodes\n",
    "    Le = atualizar_mensagens_cnodes(Le, Lr, H)\n",
    "    \n",
    "    rows, cols = Lr.shape\n",
    "    parity_checks = []\n",
    "    # Iterate over each c-node (row)\n",
    "    for i in range(rows):\n",
    "        signs = np.sign(Lr[i])\n",
    "        # Filter out zeros\n",
    "        non_zero_signs = signs[signs != 0]\n",
    "        # Check if the product of signs is positive\n",
    "        product_of_signs = np.prod(non_zero_signs)\n",
    "        if product_of_signs > 0:\n",
    "            parity_checks.append(1)\n",
    "        else:\n",
    "            parity_checks.append(0)\n",
    "    return parity_checks"
   ]
  },
  {
   "cell_type": "code",
   "execution_count": 487,
   "metadata": {},
   "outputs": [],
   "source": [
    "n = 0"
   ]
  },
  {
   "cell_type": "code",
   "execution_count": 488,
   "metadata": {},
   "outputs": [
    {
     "name": "stdout",
     "output_type": "stream",
     "text": [
      "Iteração n: 1\n",
      "Mensagens Decision atualizada: [0, 1, 0, 1, 0, 0]\n",
      "Símbolos BPSK gerados:         [-1 -1 -1 -1 -1 -1 -1 -1  1 -1]\n",
      "Mensagens Le atualizada: [[ 3.3973882   3.3973882   3.3973882   3.3973882   3.91213763  0.\n",
      "   0.          0.          0.          0.        ]\n",
      " [ 0.          0.          0.          0.          0.         -0.0890497\n",
      "   1.30434865 -0.0890497   0.0890497   0.0890497 ]\n",
      " [ 7.66430232  0.         11.46338034  0.          0.          0.\n",
      "   7.66430232  7.66430232  0.          7.66430232]\n",
      " [ 0.         -2.88263877  0.          4.42688706  2.88263877 -2.88263877\n",
      "   0.          0.          2.88263877  0.        ]\n",
      " [ 0.          0.          0.          3.3973882   3.91213763  3.3973882\n",
      "   3.3973882   0.          0.          3.3973882 ]\n",
      " [ 3.96293368  2.07023108 -2.07023108  0.          0.          0.\n",
      "   0.          2.07023108 -2.07023108  0.        ]]\n",
      "Mensagens Lr atualizada: [[-10.42821804 -14.45907872  -4.39505328  -3.91213763  -3.3973882\n",
      "    0.           0.           0.           0.           0.        ]\n",
      " [  0.           0.           0.           0.           0.\n",
      "  -10.2893059    0.0890497   -5.52614424  16.05680852   1.30434865]\n",
      " [-13.1319216    0.          -7.66430232   0.           0.\n",
      "    0.         -12.67867929 -19.32605756   0.         -11.46338034]\n",
      " [  0.          -7.66430232   0.           2.88263877   4.42688706\n",
      "  -13.55855494   0.           0.          19.32605756   0.        ]\n",
      " [  0.           0.           0.          -3.91213763  -3.3973882\n",
      "  -20.35333134  -9.97497574   0.           0.          -8.75967678]\n",
      " [ -2.07023108  -4.96059876   3.96293368   0.           0.\n",
      "    0.           0.          -8.26436704  17.76284699   0.        ]]\n"
     ]
    }
   ],
   "source": [
    "n += 1\n",
    "parity_checks = iteracao(Lc, Le, Lr, H)\n",
    "print(f\"Iteração n: {n}\")\n",
    "print(f\"Mensagens Decision atualizada: {parity_checks}\")\n",
    "print(f\"Símbolos BPSK gerados:         {simbolos_bpsk}\")\n",
    "print(f\"Mensagens Le atualizada: {Le}\")\n",
    "print(f\"Mensagens Lr atualizada: {Lr}\")"
   ]
  },
  {
   "cell_type": "code",
   "execution_count": 489,
   "metadata": {},
   "outputs": [],
   "source": [
    "def ldpc_decode(Lc, H, max_iter=100):\n",
    "    Le, Lr = inicializar_mensagens(H)\n",
    "    n = 0\n",
    "\n",
    "    for iteration in range(max_iter):\n",
    "        n += 1\n",
    "        parity_checks = iteracao(Lc, Le, Lr, H)\n",
    "        if all(parity_checks):\n",
    "            break\n",
    "    \n",
    "    print(f\"{n} iterações\")\n",
    "    # Decisão final\n",
    "    Lf = Lc + np.sum(Le, axis=0)\n",
    "    decoded_bits = np.sign(Lf)\n",
    "    return decoded_bits"
   ]
  },
  {
   "cell_type": "code",
   "execution_count": 490,
   "metadata": {},
   "outputs": [
    {
     "name": "stdout",
     "output_type": "stream",
     "text": [
      "1000 iterações\n",
      "Bits gerados:       [-1 -1 -1 -1 -1 -1 -1 -1  1 -1]\n",
      "Bits decodificados: [-1. -1. -1. -1. -1. -1.  1.  1.  1. -1.]\n"
     ]
    }
   ],
   "source": [
    "bits_decodificados = ldpc_decode(Lc, H)\n",
    "simbolos_bpsk = np.sign(simbolos_bpsk)\n",
    "print(f\"Bits gerados:       {simbolos_bpsk}\")\n",
    "print(f\"Bits decodificados: {bits_decodificados}\")\n"
   ]
  },
  {
   "cell_type": "code",
   "execution_count": 491,
   "metadata": {},
   "outputs": [],
   "source": [
    "def calcular_ber(bits_originais, bits_decodificados):\n",
    "\n",
    "    erros = np.count_nonzero(bits_originais != bits_decodificados)\n",
    "    ber = erros / len(bits_originais)\n",
    "    return ber"
   ]
  },
  {
   "cell_type": "code",
   "execution_count": 492,
   "metadata": {},
   "outputs": [
    {
     "name": "stdout",
     "output_type": "stream",
     "text": [
      "Ber: 0.2\n"
     ]
    }
   ],
   "source": [
    "ber = calcular_ber(simbolos_bpsk, bits_decodificados)\n",
    "print(f\"Ber: {ber}\")"
   ]
  },
  {
   "cell_type": "code",
   "execution_count": 493,
   "metadata": {},
   "outputs": [],
   "source": [
    "def simular_desempenho_ldpc(H, num_bits, Eb_N0_dB_range, max_iter=50):\n",
    "    ber_results = []\n",
    "    \n",
    "    for Eb_N0_dB in Eb_N0_dB_range:\n",
    "        # Gerar símbolos BPSK\n",
    "        simbolos = gerar_simbolos_bpsk(num_bits)\n",
    "        \n",
    "        # Calcular valores recebidos com ruído\n",
    "        r = calcular_valor_recebido(simbolos, Eb_N0_dB)\n",
    "        \n",
    "        # Calcular valores LLR\n",
    "        sigma2 = calcular_variancia_ruido(Eb_N0_dB)\n",
    "        Lc = calcular_valores_llr(r, sigma2)\n",
    "        \n",
    "        # Decodificar\n",
    "        bits_decodificados = ldpc_decode(Lc, H, max_iter=max_iter)\n",
    "        \n",
    "        # Calcular BER\n",
    "        ber = calcular_ber(simbolos, bits_decodificados)\n",
    "        ber_results.append(ber)\n",
    "        \n",
    "    return ber_results"
   ]
  },
  {
   "cell_type": "code",
   "execution_count": 494,
   "metadata": {},
   "outputs": [],
   "source": [
    "# Definindo os parâmetros para simulação\n",
    "num_bits = 999\n",
    "Eb_N0_dB_range = np.arange(0, 5.5, 0.5)"
   ]
  },
  {
   "cell_type": "code",
   "execution_count": 495,
   "metadata": {},
   "outputs": [],
   "source": [
    "# Gerando a matriz LDPC\n",
    "N = num_bits\n",
    "dv = 4\n",
    "dc = 9\n",
    "K, M = set_params(N, dv, dc)\n",
    "H = generate_LDPC_matrix(N, dv, dc, K, M)"
   ]
  },
  {
   "cell_type": "code",
   "execution_count": 496,
   "metadata": {},
   "outputs": [
    {
     "name": "stdout",
     "output_type": "stream",
     "text": [
      "50 iterações\n",
      "50 iterações\n",
      "50 iterações\n",
      "50 iterações\n",
      "50 iterações\n",
      "50 iterações\n",
      "50 iterações\n",
      "50 iterações\n",
      "50 iterações\n",
      "50 iterações\n",
      "50 iterações\n"
     ]
    }
   ],
   "source": [
    "# Simulando o desempenho\n",
    "ber_results = simular_desempenho_ldpc(H, num_bits, Eb_N0_dB_range)"
   ]
  },
  {
   "cell_type": "code",
   "execution_count": 497,
   "metadata": {},
   "outputs": [],
   "source": [
    "def plotar_ber(Eb_N0_dB_range, ber_results):\n",
    "    plt.figure(figsize=(10, 6))\n",
    "    plt.plot(Eb_N0_dB_range, ber_results, marker='o', linestyle='-', color='b')\n",
    "    plt.yscale('log')\n",
    "    plt.xlabel('Eb/N0 (dB)')\n",
    "    plt.ylabel('Taxa de Erro de Bit (BER)')\n",
    "    plt.title('Desempenho do Código LDPC')\n",
    "    plt.grid(True, which='both', linestyle='--', linewidth=0.5)\n",
    "    plt.show()"
   ]
  },
  {
   "cell_type": "code",
   "execution_count": 498,
   "metadata": {},
   "outputs": [
    {
     "data": {
      "image/png": "[encoded data removed]",
      "text/plain": [
       "<Figure size 1000x600 with 1 Axes>"
      ]
     },
     "metadata": {},
     "output_type": "display_data"
    }
   ],
   "source": [
    "# Plotar o gráfico\n",
    "plotar_ber(Eb_N0_dB_range, ber_results)"
   ]
  },
  {
   "cell_type": "code",
   "execution_count": 499,
   "metadata": {},
   "outputs": [
    {
     "name": "stdout",
     "output_type": "stream",
     "text": [
      "Menor valor de Eb/N0 para BER < 10^-4: None dB\n"
     ]
    }
   ],
   "source": [
    "def encontrar_menor_eb_n0(ber_results, Eb_N0_dB_range, threshold=1e-4):\n",
    "    for Eb_N0_dB, ber in zip(Eb_N0_dB_range, ber_results):\n",
    "        if ber < threshold:\n",
    "            return Eb_N0_dB\n",
    "    return None\n",
    "\n",
    "# Encontrar o menor valor de Eb/N0 para BER < 10^-4\n",
    "menor_eb_n0 = encontrar_menor_eb_n0(ber_results, Eb_N0_dB_range)\n",
    "print(f\"Menor valor de Eb/N0 para BER < 10^-4: {menor_eb_n0} dB\")"
   ]
  },
  {
   "cell_type": "code",
   "execution_count": 143,
   "metadata": {},
   "outputs": [],
   "source": [
    "import csv\n",
    "\n",
    "def gerar_grafo_csv(H, filename='grafo_ldpc.csv'):\n",
    "    with open(filename, mode='w', newline='') as file:\n",
    "        writer = csv.writer(file)\n",
    "        for row in H:\n",
    "            indices = np.where(row == 1)[0]\n",
    "            writer.writerow(indices)\n",
    "\n",
    "# Exemplo de matriz H para N ≈ 1000\n",
    "H = generate_LDPC_matrix(N, dv, dc, K, M)\n",
    "\n",
    "# Gerar arquivo CSV\n",
    "gerar_grafo_csv(H)"
   ]
  }
 ],
 "metadata": {
  "kernelspec": {
   "display_name": "base",
   "language": "python",
   "name": "python3"
  },
  "language_info": {
   "codemirror_mode": {
    "name": "ipython",
    "version": 3
   },
   "file_extension": ".py",
   "mimetype": "text/x-python",
   "name": "python",
   "nbconvert_exporter": "python",
   "pygments_lexer": "ipython3",
   "version": "3.11.3"
  }
 },
 "nbformat": 4,
 "nbformat_minor": 2
}
