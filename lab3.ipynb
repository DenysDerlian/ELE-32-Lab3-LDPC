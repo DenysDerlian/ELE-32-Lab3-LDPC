{
 "cells": [
  {
   "cell_type": "code",
   "execution_count": 148,
   "metadata": {},
   "outputs": [],
   "source": [
    "import numpy as np\n",
    "import matplotlib\n",
    "import matplotlib.pyplot as plt\n",
    "from numba import njit\n",
    "import networkx as nx"
   ]
  },
  {
   "cell_type": "code",
   "execution_count": 149,
   "metadata": {},
   "outputs": [],
   "source": [
    "def calcular_variancia_ruido(Eb_N0_dB):\n",
    "    Eb_N0 = 10**(Eb_N0_dB / 10)\n",
    "    N0 = 1 / Eb_N0\n",
    "    sigma2 = N0 / 2\n",
    "    return sigma2"
   ]
  },
  {
   "cell_type": "code",
   "execution_count": 150,
   "metadata": {},
   "outputs": [],
   "source": [
    "def gerar_simbolos_bpsk(num_bits):\n",
    "    return np.random.choice([-1, 1], num_bits)"
   ]
  },
  {
   "cell_type": "code",
   "execution_count": 151,
   "metadata": {},
   "outputs": [],
   "source": [
    "def adicionar_ruido_gaussiano(simbolos, sigma2):\n",
    "    sigma = np.sqrt(sigma2)\n",
    "    ruido = sigma * np.random.randn(len(simbolos))\n",
    "    r = simbolos + ruido\n",
    "    return r"
   ]
  },
  {
   "cell_type": "code",
   "execution_count": 152,
   "metadata": {},
   "outputs": [],
   "source": [
    "def calcular_valor_recebido(simbolos, Eb_N0_dB):\n",
    "    sigma2 = calcular_variancia_ruido(Eb_N0_dB)\n",
    "    r = adicionar_ruido_gaussiano(simbolos, sigma2)\n",
    "    return r"
   ]
  },
  {
   "cell_type": "code",
   "execution_count": 153,
   "metadata": {},
   "outputs": [],
   "source": [
    "def calcular_valores_llr(r, sigma2):\n",
    "    llr = 2 * r / sigma2\n",
    "    return llr"
   ]
  },
  {
   "cell_type": "code",
   "execution_count": 154,
   "metadata": {},
   "outputs": [],
   "source": [
    "@njit\n",
    "def generate_LDPC_matrix(N, dv, dc, K, M):\n",
    "    H1 = np.zeros((K, N), dtype=np.int32)\n",
    "    for i in range(len(H1)):\n",
    "        H1[i][i * dc:(i + 1) * dc] = 1\n",
    "\n",
    "    H = H1\n",
    "\n",
    "    for _ in range(dv - 1):\n",
    "        perm = np.random.permutation(N)\n",
    "        H2 = H1[:, perm]\n",
    "        H = np.concatenate((H, H2), axis=0)\n",
    "\n",
    "    return H"
   ]
  },
  {
   "cell_type": "code",
   "execution_count": 155,
   "metadata": {},
   "outputs": [],
   "source": [
    "def inicializar_mensagens(Lc, H):\n",
    "    num_cnodes, num_vnodes = H.shape\n",
    "    Le = np.zeros((num_cnodes, num_vnodes))  # Mensagens dos c-nodes para os v-nodes\n",
    "    Lr = np.zeros((num_cnodes, num_vnodes))  # Mensagens dos v-nodes para os c-nodes\n",
    "    return Le, Lr"
   ]
  },
  {
   "cell_type": "code",
   "execution_count": 156,
   "metadata": {},
   "outputs": [],
   "source": [
    "# Parâmetros de exemplo\n",
    "num_bits = 1000\n",
    "Eb_N0_dB = 3.0\n",
    "\n",
    "# Gerar símbolos BPSK\n",
    "simbolos = gerar_simbolos_bpsk(num_bits)\n",
    "\n",
    "# Calcular valores recebidos com ruído\n",
    "r = calcular_valor_recebido(simbolos, Eb_N0_dB)\n",
    "\n",
    "# Calcular valores LLR\n",
    "sigma2 = calcular_variancia_ruido(Eb_N0_dB)\n",
    "Lc = calcular_valores_llr(r, sigma2)\n",
    "\n",
    "# Exemplo de matriz de verificação de paridade H\n",
    "H = np.array([\n",
    "    [1, 0, 1, 1, 0, 0],\n",
    "    [0, 1, 0, 1, 1, 0],\n",
    "    [0, 0, 1, 0, 1, 1]\n",
    "])\n",
    "\n",
    "# Inicializar as mensagens de entrada\n",
    "Le, Lr = inicializar_mensagens(Lc, H)"
   ]
  },
  {
   "cell_type": "code",
   "execution_count": 157,
   "metadata": {},
   "outputs": [],
   "source": [
    "def atualizar_mensagens_vnodes(Lc, Le, H):\n",
    "    num_cnodes, num_vnodes = H.shape\n",
    "    Lr = np.zeros((num_cnodes, num_vnodes))  # Inicializar Lr corretamente\n",
    "    for i in range(num_vnodes):\n",
    "        for j in range(num_cnodes):\n",
    "            if H[j, i] == 1:\n",
    "                Lr[j, i] = Lc[i] + np.sum(Le[:, i]) - Le[j, i]\n",
    "    return Lr\n"
   ]
  },
  {
   "cell_type": "code",
   "execution_count": 158,
   "metadata": {},
   "outputs": [],
   "source": [
    "def atualizar_mensagens_cnodes(Lr, H):\n",
    "    num_cnodes, num_vnodes = H.shape\n",
    "    Le = np.zeros((num_cnodes, num_vnodes))  # Inicializar Le corretamente\n",
    "    for j in range(num_cnodes):\n",
    "        for i in range(num_vnodes):\n",
    "            if H[j, i] == 1:\n",
    "                produtos = np.prod(np.tanh(Lr[j, :] / 2))\n",
    "                produtos /= np.tanh(Lr[j, i] / 2)\n",
    "                Le[j, i] = 2 * np.arctanh(produtos)\n",
    "    return Le\n"
   ]
  },
  {
   "cell_type": "code",
   "execution_count": 159,
   "metadata": {},
   "outputs": [],
   "source": [
    "def ldpc_decode(Lc, H, max_iter=50):\n",
    "    num_cnodes, num_vnodes = H.shape\n",
    "    Le, Lr = inicializar_mensagens(Lc, H)\n",
    "    \n",
    "    for iteration in range(max_iter):\n",
    "        # Atualizar mensagens dos v-nodes\n",
    "        Lr = atualizar_mensagens_vnodes(Lc, Lr, H)\n",
    "        \n",
    "        # Atualizar mensagens dos c-nodes\n",
    "        Le = atualizar_mensagens_cnodes(Lr, H)\n",
    "        \n",
    "        # Critério de parada: verificar se todas as equações de paridade são satisfeitas\n",
    "        decision = np.sign(Lc + np.sum(Le, axis=0))\n",
    "        if np.all(np.mod(np.dot(H, decision), 2) == 0):\n",
    "            break\n",
    "\n",
    "    # Decisão final\n",
    "    Lf = Lc + np.sum(Le, axis=0)\n",
    "    decoded_bits = np.sign(Lf)\n",
    "    return decoded_bits"
   ]
  },
  {
   "cell_type": "code",
   "execution_count": 160,
   "metadata": {},
   "outputs": [],
   "source": [
    "def ldpc_decode(Lc, H, max_iter=50):\n",
    "    Le, Lr = inicializar_mensagens(Lc, H)\n",
    "    \n",
    "    for iteration in range(max_iter):\n",
    "        # Atualizar mensagens dos v-nodes\n",
    "        Lr = atualizar_mensagens_vnodes(Lc, Le, H)\n",
    "        \n",
    "        # Atualizar mensagens dos c-nodes\n",
    "        Le = atualizar_mensagens_cnodes(Lr, H)\n",
    "        \n",
    "        # Critério de parada: verificar se todas as equações de paridade são satisfeitas\n",
    "        decision = np.sign(Lc[:Le.shape[1]] + np.sum(Le, axis=0))\n",
    "        if np.all(np.mod(np.dot(H, decision), 2) == 0):\n",
    "            break\n",
    "\n",
    "    # Decisão final\n",
    "    Lf = Lc[:Le.shape[1]] + np.sum(Le, axis=0)\n",
    "    decoded_bits = np.sign(Lf)\n",
    "    return decoded_bits\n"
   ]
  },
  {
   "cell_type": "code",
   "execution_count": 161,
   "metadata": {},
   "outputs": [],
   "source": [
    "def calcular_ber(bits_originais, bits_decodificados):\n",
    "    # Certificar-se de que ambos os arrays tenham o mesmo tamanho\n",
    "    min_length = min(len(bits_originais), len(bits_decodificados))\n",
    "    bits_originais = bits_originais[:min_length]\n",
    "    bits_decodificados = bits_decodificados[:min_length]\n",
    "    \n",
    "    erros = np.count_nonzero(bits_originais != bits_decodificados)\n",
    "    ber = erros / len(bits_originais)\n",
    "    return ber"
   ]
  },
  {
   "cell_type": "code",
   "execution_count": 162,
   "metadata": {},
   "outputs": [],
   "source": [
    "def simular_desempenho_ldpc(H, num_bits, Eb_N0_dB_range, max_iter=50):\n",
    "    ber_results = []\n",
    "    \n",
    "    for Eb_N0_dB in Eb_N0_dB_range:\n",
    "        # Gerar símbolos BPSK\n",
    "        simbolos = gerar_simbolos_bpsk(num_bits)\n",
    "        \n",
    "        # Calcular valores recebidos com ruído\n",
    "        r = calcular_valor_recebido(simbolos, Eb_N0_dB)\n",
    "        \n",
    "        # Calcular valores LLR\n",
    "        sigma2 = calcular_variancia_ruido(Eb_N0_dB)\n",
    "        Lc = calcular_valores_llr(r, sigma2)\n",
    "        \n",
    "        # Decodificar\n",
    "        bits_decodificados = ldpc_decode(Lc, H, max_iter=max_iter)\n",
    "        \n",
    "        # Calcular BER\n",
    "        ber = calcular_ber(simbolos, bits_decodificados)\n",
    "        ber_results.append(ber)\n",
    "        \n",
    "    return ber_results"
   ]
  },
  {
   "cell_type": "code",
   "execution_count": 163,
   "metadata": {},
   "outputs": [],
   "source": [
    "@njit\n",
    "def set_params(N, dv, dc):\n",
    "    if N % dc != 0:\n",
    "        raise ValueError(\"N must be divisible by dc\")\n",
    "    else:\n",
    "        K = int(N / dc)\n",
    "        M = int(K * dv)\n",
    "        return (K, M)"
   ]
  },
  {
   "cell_type": "code",
   "execution_count": 164,
   "metadata": {},
   "outputs": [],
   "source": [
    "@njit\n",
    "def generate_LDPC_matrix(N, dv, dc, K, M):\n",
    "    H1 = np.zeros((K, N), dtype=np.int32)\n",
    "    for i in range(len(H1)):\n",
    "        H1[i][i * dc:(i + 1) * dc] = 1\n",
    "\n",
    "    H = H1\n",
    "\n",
    "    for _ in range(dv - 1):\n",
    "        perm = np.random.permutation(N)\n",
    "        H2 = H1[:, perm]\n",
    "        H = np.concatenate((H, H2), axis=0)\n",
    "\n",
    "    return H"
   ]
  },
  {
   "cell_type": "code",
   "execution_count": 165,
   "metadata": {},
   "outputs": [],
   "source": [
    "# Definindo os parâmetros para simulação\n",
    "num_bits = 1000\n",
    "Eb_N0_dB_range = np.arange(0, 5.5, 0.5)"
   ]
  },
  {
   "cell_type": "code",
   "execution_count": 166,
   "metadata": {},
   "outputs": [],
   "source": [
    "# Gerando a matriz LDPC\n",
    "N = 999\n",
    "dv = 4\n",
    "dc = 9\n",
    "K, M = set_params(N, dv, dc)\n",
    "H = generate_LDPC_matrix(N, dv, dc, K, M)"
   ]
  },
  {
   "cell_type": "code",
   "execution_count": 167,
   "metadata": {},
   "outputs": [],
   "source": [
    "# Simulando o desempenho\n",
    "ber_results = simular_desempenho_ldpc(H, num_bits, Eb_N0_dB_range)"
   ]
  },
  {
   "cell_type": "code",
   "execution_count": 168,
   "metadata": {},
   "outputs": [],
   "source": [
    "def plotar_ber(Eb_N0_dB_range, ber_results):\n",
    "    plt.figure(figsize=(10, 6))\n",
    "    plt.plot(Eb_N0_dB_range, ber_results, marker='o', linestyle='-', color='b')\n",
    "    plt.yscale('log')\n",
    "    plt.xlabel('Eb/N0 (dB)')\n",
    "    plt.ylabel('Taxa de Erro de Bit (BER)')\n",
    "    plt.title('Desempenho do Código LDPC')\n",
    "    plt.grid(True, which='both', linestyle='--', linewidth=0.5)\n",
    "    plt.show()"
   ]
  },
  {
   "cell_type": "code",
   "execution_count": 169,
   "metadata": {},
   "outputs": [
    {
     "data": {
      "image/png": "[encoded data removed]",
      "text/plain": [
       "<Figure size 1000x600 with 1 Axes>"
      ]
     },
     "metadata": {},
     "output_type": "display_data"
    }
   ],
   "source": [
    "# Plotar o gráfico\n",
    "plotar_ber(Eb_N0_dB_range, ber_results)"
   ]
  },
  {
   "cell_type": "code",
   "execution_count": 170,
   "metadata": {},
   "outputs": [
    {
     "name": "stdout",
     "output_type": "stream",
     "text": [
      "Menor valor de Eb/N0 para BER < 10^-4: None dB\n"
     ]
    }
   ],
   "source": [
    "def encontrar_menor_eb_n0(ber_results, Eb_N0_dB_range, threshold=1e-4):\n",
    "    for Eb_N0_dB, ber in zip(Eb_N0_dB_range, ber_results):\n",
    "        if ber < threshold:\n",
    "            return Eb_N0_dB\n",
    "    return None\n",
    "\n",
    "# Encontrar o menor valor de Eb/N0 para BER < 10^-4\n",
    "menor_eb_n0 = encontrar_menor_eb_n0(ber_results, Eb_N0_dB_range)\n",
    "print(f\"Menor valor de Eb/N0 para BER < 10^-4: {menor_eb_n0} dB\")"
   ]
  },
  {
   "cell_type": "code",
   "execution_count": 171,
   "metadata": {},
   "outputs": [],
   "source": [
    "import csv\n",
    "\n",
    "def gerar_grafo_csv(H, filename='grafo_ldpc.csv'):\n",
    "    with open(filename, mode='w', newline='') as file:\n",
    "        writer = csv.writer(file)\n",
    "        for row in H:\n",
    "            indices = np.where(row == 1)[0]\n",
    "            writer.writerow(indices)\n",
    "\n",
    "# Exemplo de matriz H para N ≈ 1000\n",
    "H = generate_LDPC_matrix(N, dv, dc, K, M)\n",
    "\n",
    "# Gerar arquivo CSV\n",
    "gerar_grafo_csv(H)"
   ]
  }
 ],
 "metadata": {
  "kernelspec": {
   "display_name": "base",
   "language": "python",
   "name": "python3"
  },
  "language_info": {
   "codemirror_mode": {
    "name": "ipython",
    "version": 3
   },
   "file_extension": ".py",
   "mimetype": "text/x-python",
   "name": "python",
   "nbconvert_exporter": "python",
   "pygments_lexer": "ipython3",
   "version": "3.11.3"
  }
 },
 "nbformat": 4,
 "nbformat_minor": 2
}
