{
 "cells": [
  {
   "cell_type": "code",
   "execution_count": 175,
   "metadata": {},
   "outputs": [],
   "source": [
    "import numpy as np\n",
    "import matplotlib\n",
    "import matplotlib.pyplot as plt\n",
    "from numba import njit\n",
    "import networkx as nx"
   ]
  },
  {
   "cell_type": "code",
   "execution_count": 176,
   "metadata": {},
   "outputs": [],
   "source": [
    "def calcular_variancia_ruido(Eb_N0_dB):\n",
    "    Eb_N0 = 10**(Eb_N0_dB / 10)\n",
    "    N0 = 1 / Eb_N0\n",
    "    sigma2 = N0 / 2\n",
    "    return sigma2"
   ]
  },
  {
   "cell_type": "code",
   "execution_count": 177,
   "metadata": {},
   "outputs": [
    {
     "name": "stdout",
     "output_type": "stream",
     "text": [
      "Variância do ruído: 0.15811388300841897\n"
     ]
    }
   ],
   "source": [
    "variancia_ruido = calcular_variancia_ruido(5)\n",
    "print(f\"Variância do ruído: {variancia_ruido}\")"
   ]
  },
  {
   "cell_type": "code",
   "execution_count": 178,
   "metadata": {},
   "outputs": [],
   "source": [
    "def gerar_simbolos_bpsk(num_bits):\n",
    "    return np.random.choice([-1, 1], num_bits)"
   ]
  },
  {
   "cell_type": "code",
   "execution_count": 179,
   "metadata": {},
   "outputs": [
    {
     "name": "stdout",
     "output_type": "stream",
     "text": [
      "Símbolos BPSK gerados: [-1  1  1 -1  1  1 -1  1 -1  1]\n"
     ]
    }
   ],
   "source": [
    "simbolos_bpsk = gerar_simbolos_bpsk(10)\n",
    "print(f\"Símbolos BPSK gerados: {simbolos_bpsk}\")"
   ]
  },
  {
   "cell_type": "code",
   "execution_count": 180,
   "metadata": {},
   "outputs": [],
   "source": [
    "def calcular_valor_recebido(simbolos, Eb_N0_dB):\n",
    "    sigma2 = calcular_variancia_ruido(Eb_N0_dB)\n",
    "    sigma = np.sqrt(sigma2)\n",
    "    ruido = sigma * np.random.randn(len(simbolos))\n",
    "    r = simbolos + ruido\n",
    "    return r"
   ]
  },
  {
   "cell_type": "code",
   "execution_count": 181,
   "metadata": {},
   "outputs": [
    {
     "name": "stdout",
     "output_type": "stream",
     "text": [
      "Valores recebidos: [-1.05714712  0.85671148  0.82926633 -0.05692977  0.27410151  1.05512171\n",
      " -1.19166915  0.98184066 -1.23179209  1.37347742]\n"
     ]
    }
   ],
   "source": [
    "valores_recebidos = calcular_valor_recebido(simbolos_bpsk, 3)\n",
    "print(f\"Valores recebidos: {valores_recebidos}\")"
   ]
  },
  {
   "cell_type": "code",
   "execution_count": 182,
   "metadata": {},
   "outputs": [],
   "source": [
    "def calcular_valores_llr(r, sigma2):\n",
    "    llr = 2 * r / sigma2\n",
    "    return llr"
   ]
  },
  {
   "cell_type": "code",
   "execution_count": 183,
   "metadata": {},
   "outputs": [
    {
     "name": "stdout",
     "output_type": "stream",
     "text": [
      "Valores LLR: [-13.37197085  10.83663827  10.48948157  -0.720111     3.46714028\n",
      "  13.34635121 -15.07355494  12.41941113 -15.58107443  17.37326788]\n"
     ]
    }
   ],
   "source": [
    "Lc = calcular_valores_llr(valores_recebidos, variancia_ruido)\n",
    "print(f\"Valores LLR: {Lc}\")"
   ]
  },
  {
   "cell_type": "code",
   "execution_count": 184,
   "metadata": {},
   "outputs": [],
   "source": [
    "@njit\n",
    "def set_params(N: int, dv: int, dc: int) -> tuple[int, int]:\n",
    "    if (N  % dc != 0):\n",
    "        raise ValueError(\"N must be divisible by dc\")\n",
    "    else:\n",
    "        K = int(N / dc)\n",
    "        M = int(K * dv)\n",
    "        return (K, M)"
   ]
  },
  {
   "cell_type": "code",
   "execution_count": 185,
   "metadata": {},
   "outputs": [
    {
     "name": "stdout",
     "output_type": "stream",
     "text": [
      "K: 2; M: 6\n"
     ]
    }
   ],
   "source": [
    "N = 10\n",
    "dv = 3\n",
    "dc = 5\n",
    "K, M = set_params(N, dv, dc)\n",
    "print(f\"K: {K}; M: {M}\")"
   ]
  },
  {
   "cell_type": "code",
   "execution_count": 186,
   "metadata": {},
   "outputs": [],
   "source": [
    "@njit\n",
    "def generate_LDPC_matrix(N, dv, dc, K, M):\n",
    "    H1 = np.zeros((K, N), dtype=np.int32)\n",
    "    for i in range(len(H1)):\n",
    "        H1[i][i * dc:(i + 1) * dc] = 1\n",
    "\n",
    "    H = H1\n",
    "\n",
    "    for _ in range(dv - 1):\n",
    "        perm = np.random.permutation(N)\n",
    "        H2 = H1[:, perm]\n",
    "        H = np.concatenate((H, H2), axis=0)\n",
    "\n",
    "    return H"
   ]
  },
  {
   "cell_type": "code",
   "execution_count": 187,
   "metadata": {},
   "outputs": [
    {
     "name": "stdout",
     "output_type": "stream",
     "text": [
      "Matriz LDPC gerada: \n",
      "[[1 1 1 1 1 0 0 0 0 0]\n",
      " [0 0 0 0 0 1 1 1 1 1]\n",
      " [1 1 1 0 1 0 0 0 0 1]\n",
      " [0 0 0 1 0 1 1 1 1 0]\n",
      " [1 1 1 1 1 0 0 0 0 0]\n",
      " [0 0 0 0 0 1 1 1 1 1]]\n"
     ]
    }
   ],
   "source": [
    "H = generate_LDPC_matrix(N, dv, dc, K, M)\n",
    "print(f\"Matriz LDPC gerada: \\n{H}\")"
   ]
  },
  {
   "cell_type": "code",
   "execution_count": 188,
   "metadata": {},
   "outputs": [],
   "source": [
    "def inicializar_mensagens(H):\n",
    "    num_cnodes, num_vnodes = H.shape\n",
    "    Le = np.zeros((num_cnodes, num_vnodes))  # Mensagens dos c-nodes para os v-nodes\n",
    "    Lr = np.zeros((num_cnodes, num_vnodes))  # Mensagens dos v-nodes para os c-nodes\n",
    "    return Le, Lr"
   ]
  },
  {
   "cell_type": "code",
   "execution_count": 189,
   "metadata": {},
   "outputs": [
    {
     "name": "stdout",
     "output_type": "stream",
     "text": [
      "Mensagens Le iniciais: [[0. 0. 0. 0. 0. 0. 0. 0. 0. 0.]\n",
      " [0. 0. 0. 0. 0. 0. 0. 0. 0. 0.]\n",
      " [0. 0. 0. 0. 0. 0. 0. 0. 0. 0.]\n",
      " [0. 0. 0. 0. 0. 0. 0. 0. 0. 0.]\n",
      " [0. 0. 0. 0. 0. 0. 0. 0. 0. 0.]\n",
      " [0. 0. 0. 0. 0. 0. 0. 0. 0. 0.]]\n",
      "Mensagens Lr iniciais: [[0. 0. 0. 0. 0. 0. 0. 0. 0. 0.]\n",
      " [0. 0. 0. 0. 0. 0. 0. 0. 0. 0.]\n",
      " [0. 0. 0. 0. 0. 0. 0. 0. 0. 0.]\n",
      " [0. 0. 0. 0. 0. 0. 0. 0. 0. 0.]\n",
      " [0. 0. 0. 0. 0. 0. 0. 0. 0. 0.]\n",
      " [0. 0. 0. 0. 0. 0. 0. 0. 0. 0.]]\n"
     ]
    }
   ],
   "source": [
    "Le, Lr = inicializar_mensagens(H)\n",
    "print(f\"Mensagens Le iniciais: {Le}\")\n",
    "print(f\"Mensagens Lr iniciais: {Lr}\")"
   ]
  },
  {
   "cell_type": "code",
   "execution_count": 190,
   "metadata": {},
   "outputs": [],
   "source": [
    "def atualizar_mensagens_vnodes(Lr, Lc, Le, H):\n",
    "    num_cnodes, num_vnodes = H.shape\n",
    "    for i in range(num_vnodes):\n",
    "        for j in range(num_cnodes):\n",
    "            if H[j, i] == 1:\n",
    "                Lr[j, i] = Lc[i] + np.sum(Le[:, i]) - Le[j, i]\n",
    "    return Lr"
   ]
  },
  {
   "cell_type": "code",
   "execution_count": 191,
   "metadata": {},
   "outputs": [
    {
     "name": "stdout",
     "output_type": "stream",
     "text": [
      "Mensagens Lr atualizadas: [[-13.37197085  10.83663827  10.48948157  -0.720111     3.46714028\n",
      "    0.           0.           0.           0.           0.        ]\n",
      " [  0.           0.           0.           0.           0.\n",
      "   13.34635121 -15.07355494  12.41941113 -15.58107443  17.37326788]\n",
      " [-13.37197085  10.83663827  10.48948157   0.           3.46714028\n",
      "    0.           0.           0.           0.          17.37326788]\n",
      " [  0.           0.           0.          -0.720111     0.\n",
      "   13.34635121 -15.07355494  12.41941113 -15.58107443   0.        ]\n",
      " [-13.37197085  10.83663827  10.48948157  -0.720111     3.46714028\n",
      "    0.           0.           0.           0.           0.        ]\n",
      " [  0.           0.           0.           0.           0.\n",
      "   13.34635121 -15.07355494  12.41941113 -15.58107443  17.37326788]]\n"
     ]
    }
   ],
   "source": [
    "Lr = atualizar_mensagens_vnodes(Lr, Lc, Le, H)\n",
    "print(f\"Mensagens Lr atualizadas: {Lr}\")"
   ]
  },
  {
   "cell_type": "code",
   "execution_count": 192,
   "metadata": {},
   "outputs": [],
   "source": [
    "def atualizar_mensagens_cnodes(Le, Lr, H):\n",
    "    num_cnodes, num_vnodes = H.shape\n",
    "    for j in range(num_cnodes):\n",
    "        for i in range(num_vnodes):\n",
    "            if H[j, i] == 1:\n",
    "                # Calcula o produto dos sinais\n",
    "                product_sign = 1\n",
    "                min_value = float('inf')\n",
    "                for k in range(num_vnodes):\n",
    "                    if k != i and H[j, k] == 1:\n",
    "                        product_sign *= np.sign(Lr[j, k])\n",
    "                        min_value = min(min_value, abs(Lr[j, k]))\n",
    "                # Calcula a mensagem de saída usando a equação 11\n",
    "                Le[j, i] = product_sign * min_value\n",
    "    return Le"
   ]
  },
  {
   "cell_type": "code",
   "execution_count": 193,
   "metadata": {},
   "outputs": [
    {
     "name": "stdout",
     "output_type": "stream",
     "text": [
      "Mensagens Le atualizadas: [[ -0.720111     0.720111     0.720111    -3.46714028   0.720111\n",
      "    0.           0.           0.           0.           0.        ]\n",
      " [  0.           0.           0.           0.           0.\n",
      "   12.41941113 -12.41941113  13.34635121 -12.41941113  12.41941113]\n",
      " [  3.46714028  -3.46714028  -3.46714028   0.         -10.48948157\n",
      "    0.           0.           0.           0.          -3.46714028]\n",
      " [  0.           0.           0.          12.41941113   0.\n",
      "   -0.720111     0.720111    -0.720111     0.720111     0.        ]\n",
      " [ -0.720111     0.720111     0.720111    -3.46714028   0.720111\n",
      "    0.           0.           0.           0.           0.        ]\n",
      " [  0.           0.           0.           0.           0.\n",
      "   12.41941113 -12.41941113  13.34635121 -12.41941113  12.41941113]]\n"
     ]
    }
   ],
   "source": [
    "Le = atualizar_mensagens_cnodes(Le, Lr, H)\n",
    "print(f\"Mensagens Le atualizadas: {Le}\")"
   ]
  },
  {
   "cell_type": "code",
   "execution_count": 194,
   "metadata": {},
   "outputs": [],
   "source": [
    "def iteracao(Lc, Le, Lr, H):\n",
    "    # Atualizar mensagens dos v-nodes\n",
    "    Lr = atualizar_mensagens_vnodes(Lr, Lc, Le, H)\n",
    "    \n",
    "    # Atualizar mensagens dos c-nodes\n",
    "    Le = atualizar_mensagens_cnodes(Le, Lr, H)\n",
    "    \n",
    "    # Critério de parada: verificar se todas as equações de paridade são satisfeitas\n",
    "    decision = np.sign(Lc + np.sum(Le, axis=0))\n",
    "    return decision"
   ]
  },
  {
   "cell_type": "code",
   "execution_count": 195,
   "metadata": {},
   "outputs": [],
   "source": [
    "n = 0"
   ]
  },
  {
   "cell_type": "code",
   "execution_count": 196,
   "metadata": {},
   "outputs": [
    {
     "name": "stdout",
     "output_type": "stream",
     "text": [
      "Iteração n: 1\n",
      "Mensagens Le atualizada: [[ -6.3022303    6.3022303    6.3022303    6.3022303   -7.74245229\n",
      "    0.           0.           0.           0.           0.        ]\n",
      " [  0.           0.           0.           0.           0.\n",
      "   25.04565135 -25.04565135  25.04565135 -25.04565135  25.04565135]\n",
      " [  4.90736227  -4.90736227  -4.90736227   0.         -11.92970357\n",
      "    0.           0.           0.           0.          -4.90736227]\n",
      " [  0.           0.           0.          38.18517348   0.\n",
      "   -7.65439155   7.65439155  -7.65439155   7.65439155   0.        ]\n",
      " [ -6.3022303    6.3022303    6.3022303    6.3022303   -7.74245229\n",
      "    0.           0.           0.           0.           0.        ]\n",
      " [  0.           0.           0.           0.           0.\n",
      "   25.04565135 -25.04565135  25.04565135 -25.04565135  25.04565135]]\n",
      "Mensagens Lr atualizada: [[-10.62494157   8.08960899   7.74245229   8.23215986  -6.3022303\n",
      "    0.           0.           0.           0.           0.        ]\n",
      " [  0.           0.           0.           0.           0.\n",
      "   25.04565135 -26.77285508  25.04565135 -27.28037457  26.32553874]\n",
      " [-14.81219285  12.27686026  11.92970357   0.           4.90736227\n",
      "    0.           0.           0.           0.          42.21209015]\n",
      " [  0.           0.           0.          -7.65439155   0.\n",
      "   38.18517348 -39.91237721  39.11211356 -40.41989669   0.        ]\n",
      " [-10.62494157   8.08960899   7.74245229   8.23215986  -6.3022303\n",
      "    0.           0.           0.           0.           0.        ]\n",
      " [  0.           0.           0.           0.           0.\n",
      "   25.04565135 -26.77285508  25.04565135 -27.28037457  26.32553874]]\n"
     ]
    },
    {
     "data": {
      "text/plain": [
       "False"
      ]
     },
     "execution_count": 196,
     "metadata": {},
     "output_type": "execute_result"
    }
   ],
   "source": [
    "n += 1\n",
    "decision = iteracao(Lc, Le, Lr, H)\n",
    "print(f\"Iteração n: {n}\")\n",
    "print(f\"Mensagens Le atualizada: {Le}\")\n",
    "print(f\"Mensagens Lr atualizada: {Lr}\")\n",
    "np.all(np.mod(np.dot(H, decision), 2) == 0)"
   ]
  },
  {
   "cell_type": "code",
   "execution_count": 197,
   "metadata": {},
   "outputs": [],
   "source": [
    "def ldpc_decode(Lc, H, max_iter=100):\n",
    "    Le, Lr = inicializar_mensagens(H)\n",
    "    n = 0\n",
    "\n",
    "    for iteration in range(max_iter):\n",
    "        n += 1\n",
    "        decision = iteracao(Lc, Le, Lr, H)\n",
    "        if np.all(np.mod(np.dot(H, decision), 2) == 0):\n",
    "            break\n",
    "    \n",
    "    print(f\"{n} iterações\")\n",
    "    # Decisão final\n",
    "    Lf = Lc + np.sum(Le, axis=0)\n",
    "    decoded_bits = np.sign(Lf)\n",
    "    return decoded_bits"
   ]
  },
  {
   "cell_type": "code",
   "execution_count": 198,
   "metadata": {},
   "outputs": [
    {
     "name": "stdout",
     "output_type": "stream",
     "text": [
      "100 iterações\n",
      "Bits gerados:       [-1  1  1 -1  1  1 -1  1 -1  1]\n",
      "Bits decodificados: [-1.  1.  1.  1. -1.  1. -1.  1. -1.  1.]\n"
     ]
    }
   ],
   "source": [
    "bits_decodificados = ldpc_decode(Lc, H)\n",
    "print(f\"Bits gerados:       {simbolos_bpsk}\")\n",
    "print(f\"Bits decodificados: {bits_decodificados}\")\n"
   ]
  },
  {
   "cell_type": "code",
   "execution_count": null,
   "metadata": {},
   "outputs": [],
   "source": [
    "def calcular_ber(bits_originais, bits_decodificados):\n",
    "\n",
    "    erros = np.count_nonzero(bits_originais != bits_decodificados)\n",
    "    ber = erros / len(bits_originais)\n",
    "    return ber"
   ]
  },
  {
   "cell_type": "code",
   "execution_count": null,
   "metadata": {},
   "outputs": [],
   "source": [
    "ber = calcular_ber(simbolos_bpsk, bits_decodificados)\n",
    "print(f\"Ber: {ber}\")"
   ]
  },
  {
   "cell_type": "code",
   "execution_count": null,
   "metadata": {},
   "outputs": [],
   "source": [
    "def simular_desempenho_ldpc(H, num_bits, Eb_N0_dB_range, max_iter=50):\n",
    "    ber_results = []\n",
    "    \n",
    "    for Eb_N0_dB in Eb_N0_dB_range:\n",
    "        # Gerar símbolos BPSK\n",
    "        simbolos = gerar_simbolos_bpsk(num_bits)\n",
    "        \n",
    "        # Calcular valores recebidos com ruído\n",
    "        r = calcular_valor_recebido(simbolos, Eb_N0_dB)\n",
    "        \n",
    "        # Calcular valores LLR\n",
    "        sigma2 = calcular_variancia_ruido(Eb_N0_dB)\n",
    "        Lc = calcular_valores_llr(r, sigma2)\n",
    "        \n",
    "        # Decodificar\n",
    "        bits_decodificados = ldpc_decode(Lc, H, max_iter=max_iter)\n",
    "        \n",
    "        # Calcular BER\n",
    "        ber = calcular_ber(simbolos, bits_decodificados)\n",
    "        ber_results.append(ber)\n",
    "        \n",
    "    return ber_results"
   ]
  },
  {
   "cell_type": "code",
   "execution_count": null,
   "metadata": {},
   "outputs": [],
   "source": [
    "# Definindo os parâmetros para simulação\n",
    "num_bits = 999\n",
    "Eb_N0_dB_range = np.arange(0, 5.5, 0.5)"
   ]
  },
  {
   "cell_type": "code",
   "execution_count": null,
   "metadata": {},
   "outputs": [],
   "source": [
    "# Gerando a matriz LDPC\n",
    "N = num_bits\n",
    "dv = 4\n",
    "dc = 9\n",
    "K, M = set_params(N, dv, dc)\n",
    "H = generate_LDPC_matrix(N, dv, dc, K, M)"
   ]
  },
  {
   "cell_type": "code",
   "execution_count": null,
   "metadata": {},
   "outputs": [],
   "source": [
    "# Simulando o desempenho\n",
    "ber_results = simular_desempenho_ldpc(H, num_bits, Eb_N0_dB_range)"
   ]
  },
  {
   "cell_type": "code",
   "execution_count": null,
   "metadata": {},
   "outputs": [],
   "source": [
    "def plotar_ber(Eb_N0_dB_range, ber_results):\n",
    "    plt.figure(figsize=(10, 6))\n",
    "    plt.plot(Eb_N0_dB_range, ber_results, marker='o', linestyle='-', color='b')\n",
    "    plt.yscale('log')\n",
    "    plt.xlabel('Eb/N0 (dB)')\n",
    "    plt.ylabel('Taxa de Erro de Bit (BER)')\n",
    "    plt.title('Desempenho do Código LDPC')\n",
    "    plt.grid(True, which='both', linestyle='--', linewidth=0.5)\n",
    "    plt.show()"
   ]
  },
  {
   "cell_type": "code",
   "execution_count": null,
   "metadata": {},
   "outputs": [],
   "source": [
    "# Plotar o gráfico\n",
    "plotar_ber(Eb_N0_dB_range, ber_results)"
   ]
  },
  {
   "cell_type": "code",
   "execution_count": null,
   "metadata": {},
   "outputs": [],
   "source": [
    "def encontrar_menor_eb_n0(ber_results, Eb_N0_dB_range, threshold=1e-4):\n",
    "    for Eb_N0_dB, ber in zip(Eb_N0_dB_range, ber_results):\n",
    "        if ber < threshold:\n",
    "            return Eb_N0_dB\n",
    "    return None\n",
    "\n",
    "# Encontrar o menor valor de Eb/N0 para BER < 10^-4\n",
    "menor_eb_n0 = encontrar_menor_eb_n0(ber_results, Eb_N0_dB_range)\n",
    "print(f\"Menor valor de Eb/N0 para BER < 10^-4: {menor_eb_n0} dB\")"
   ]
  },
  {
   "cell_type": "code",
   "execution_count": null,
   "metadata": {},
   "outputs": [],
   "source": [
    "import csv\n",
    "\n",
    "def gerar_grafo_csv(H, filename='grafo_ldpc.csv'):\n",
    "    with open(filename, mode='w', newline='') as file:\n",
    "        writer = csv.writer(file)\n",
    "        for row in H:\n",
    "            indices = np.where(row == 1)[0]\n",
    "            writer.writerow(indices)\n",
    "\n",
    "# Exemplo de matriz H para N ≈ 1000\n",
    "H = generate_LDPC_matrix(N, dv, dc, K, M)\n",
    "\n",
    "# Gerar arquivo CSV\n",
    "gerar_grafo_csv(H)"
   ]
  }
 ],
 "metadata": {
  "kernelspec": {
   "display_name": "base",
   "language": "python",
   "name": "python3"
  },
  "language_info": {
   "codemirror_mode": {
    "name": "ipython",
    "version": 3
   },
   "file_extension": ".py",
   "mimetype": "text/x-python",
   "name": "python",
   "nbconvert_exporter": "python",
   "pygments_lexer": "ipython3",
   "version": "3.11.3"
  }
 },
 "nbformat": 4,
 "nbformat_minor": 2
}
